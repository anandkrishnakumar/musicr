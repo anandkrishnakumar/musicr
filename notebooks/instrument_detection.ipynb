{
 "cells": [
  {
   "cell_type": "code",
   "execution_count": 1,
   "metadata": {},
   "outputs": [],
   "source": [
    "import librosa\n",
    "import librosa.display\n",
    "import matplotlib.pyplot as plt\n",
    "import numpy as np\n",
    "import pandas as pd\n",
    "from sklearn.model_selection import train_test_split\n",
    "import tensorflow.keras as keras\n",
    "\n",
    "catalog_path = \"/Users/anandkrishnakumar/Coding/musicr/musicr/pipeline/trusted/data_catalog.csv\"\n",
    "combined_df_path = \"/Users/anandkrishnakumar/Coding/musicr/musicr/pipeline/trusted/combined_wav.csv\"\n",
    "\n",
    "combined_wav_path = \"/Users/anandkrishnakumar/Coding/musicr/musicr/pipeline/trusted/combined_wav/{id}.wav\""
   ]
  },
  {
   "cell_type": "code",
   "execution_count": 2,
   "metadata": {},
   "outputs": [],
   "source": [
    "# Load audio file\n",
    "def load_audio(file_path):\n",
    "    y, sr = librosa.load(file_path, sr=22050)\n",
    "    return y, sr\n",
    "\n",
    "# Get power spectrogram\n",
    "\n",
    "\n",
    "def get_power_spectrogram(y, sr, log=False):\n",
    "    spectrogram = np.abs(librosa.stft(y, n_fft=2048, hop_length=512))\n",
    "    if log:\n",
    "        return librosa.amplitude_to_db(spectrogram)\n",
    "    else:\n",
    "        return spectrogram\n",
    "\n",
    "# Get MFCCs\n",
    "\n",
    "\n",
    "def get_mfccs(y, sr):\n",
    "    mfccs = librosa.feature.mfcc(y=y, n_fft=2048, hop_length=512, n_mfcc=13)\n",
    "    return mfccs"
   ]
  },
  {
   "cell_type": "code",
   "execution_count": 3,
   "metadata": {},
   "outputs": [
    {
     "data": {
      "text/html": [
       "<div>\n",
       "<style scoped>\n",
       "    .dataframe tbody tr th:only-of-type {\n",
       "        vertical-align: middle;\n",
       "    }\n",
       "\n",
       "    .dataframe tbody tr th {\n",
       "        vertical-align: top;\n",
       "    }\n",
       "\n",
       "    .dataframe thead th {\n",
       "        text-align: right;\n",
       "    }\n",
       "</style>\n",
       "<table border=\"1\" class=\"dataframe\">\n",
       "  <thead>\n",
       "    <tr style=\"text-align: right;\">\n",
       "      <th></th>\n",
       "      <th>id</th>\n",
       "      <th>instrument_1</th>\n",
       "      <th>instrument_2</th>\n",
       "    </tr>\n",
       "  </thead>\n",
       "  <tbody>\n",
       "    <tr>\n",
       "      <th>0</th>\n",
       "      <td>0</td>\n",
       "      <td>keyboard_electronic_069-057-050</td>\n",
       "      <td>flute_acoustic_002-067-025</td>\n",
       "    </tr>\n",
       "    <tr>\n",
       "      <th>1</th>\n",
       "      <td>1</td>\n",
       "      <td>keyboard_synthetic_000-052-100</td>\n",
       "      <td>guitar_electronic_028-077-050</td>\n",
       "    </tr>\n",
       "    <tr>\n",
       "      <th>2</th>\n",
       "      <td>2</td>\n",
       "      <td>guitar_electronic_022-071-100</td>\n",
       "      <td>string_acoustic_014-061-127</td>\n",
       "    </tr>\n",
       "    <tr>\n",
       "      <th>3</th>\n",
       "      <td>3</td>\n",
       "      <td>string_acoustic_071-052-075</td>\n",
       "      <td>flute_synthetic_000-057-025</td>\n",
       "    </tr>\n",
       "    <tr>\n",
       "      <th>4</th>\n",
       "      <td>4</td>\n",
       "      <td>flute_synthetic_000-072-100</td>\n",
       "      <td>string_acoustic_056-050-050</td>\n",
       "    </tr>\n",
       "  </tbody>\n",
       "</table>\n",
       "</div>"
      ],
      "text/plain": [
       "   id                     instrument_1                   instrument_2\n",
       "0   0  keyboard_electronic_069-057-050     flute_acoustic_002-067-025\n",
       "1   1   keyboard_synthetic_000-052-100  guitar_electronic_028-077-050\n",
       "2   2    guitar_electronic_022-071-100    string_acoustic_014-061-127\n",
       "3   3      string_acoustic_071-052-075    flute_synthetic_000-057-025\n",
       "4   4      flute_synthetic_000-072-100    string_acoustic_056-050-050"
      ]
     },
     "execution_count": 3,
     "metadata": {},
     "output_type": "execute_result"
    }
   ],
   "source": [
    "# Load data catalog\n",
    "catalog = pd.read_csv(catalog_path)\n",
    "combined_df = pd.read_csv(combined_df_path)#.iloc[:1000]\n",
    "\n",
    "combined_df.head()"
   ]
  },
  {
   "cell_type": "code",
   "execution_count": 4,
   "metadata": {},
   "outputs": [
    {
     "data": {
      "text/html": [
       "<div>\n",
       "<style scoped>\n",
       "    .dataframe tbody tr th:only-of-type {\n",
       "        vertical-align: middle;\n",
       "    }\n",
       "\n",
       "    .dataframe tbody tr th {\n",
       "        vertical-align: top;\n",
       "    }\n",
       "\n",
       "    .dataframe thead th {\n",
       "        text-align: right;\n",
       "    }\n",
       "</style>\n",
       "<table border=\"1\" class=\"dataframe\">\n",
       "  <thead>\n",
       "    <tr style=\"text-align: right;\">\n",
       "      <th></th>\n",
       "      <th>qualities</th>\n",
       "      <th>pitch</th>\n",
       "      <th>note</th>\n",
       "      <th>instrument_source_str</th>\n",
       "      <th>velocity</th>\n",
       "      <th>instrument_str</th>\n",
       "      <th>instrument</th>\n",
       "      <th>sample_rate</th>\n",
       "      <th>qualities_str</th>\n",
       "      <th>instrument_source</th>\n",
       "      <th>note_str</th>\n",
       "      <th>instrument_family</th>\n",
       "      <th>instrument_family_str</th>\n",
       "    </tr>\n",
       "  </thead>\n",
       "  <tbody>\n",
       "    <tr>\n",
       "      <th>0</th>\n",
       "      <td>[0, 1, 0, 0, 0, 0, 0, 0, 0, 0]</td>\n",
       "      <td>49</td>\n",
       "      <td>217499</td>\n",
       "      <td>synthetic</td>\n",
       "      <td>25</td>\n",
       "      <td>bass_synthetic_068</td>\n",
       "      <td>656</td>\n",
       "      <td>16000</td>\n",
       "      <td>['dark']</td>\n",
       "      <td>2</td>\n",
       "      <td>bass_synthetic_068-049-025</td>\n",
       "      <td>0</td>\n",
       "      <td>bass</td>\n",
       "    </tr>\n",
       "    <tr>\n",
       "      <th>1</th>\n",
       "      <td>[0, 0, 0, 0, 0, 0, 0, 0, 0, 0]</td>\n",
       "      <td>21</td>\n",
       "      <td>299359</td>\n",
       "      <td>electronic</td>\n",
       "      <td>127</td>\n",
       "      <td>keyboard_electronic_001</td>\n",
       "      <td>40</td>\n",
       "      <td>16000</td>\n",
       "      <td>[]</td>\n",
       "      <td>1</td>\n",
       "      <td>keyboard_electronic_001-021-127</td>\n",
       "      <td>4</td>\n",
       "      <td>keyboard</td>\n",
       "    </tr>\n",
       "    <tr>\n",
       "      <th>2</th>\n",
       "      <td>[0, 0, 0, 0, 0, 0, 0, 0, 0, 0]</td>\n",
       "      <td>66</td>\n",
       "      <td>72288</td>\n",
       "      <td>acoustic</td>\n",
       "      <td>100</td>\n",
       "      <td>guitar_acoustic_010</td>\n",
       "      <td>219</td>\n",
       "      <td>16000</td>\n",
       "      <td>[]</td>\n",
       "      <td>0</td>\n",
       "      <td>guitar_acoustic_010-066-100</td>\n",
       "      <td>3</td>\n",
       "      <td>guitar</td>\n",
       "    </tr>\n",
       "    <tr>\n",
       "      <th>3</th>\n",
       "      <td>[0, 0, 0, 0, 0, 0, 0, 0, 1, 0]</td>\n",
       "      <td>68</td>\n",
       "      <td>22259</td>\n",
       "      <td>acoustic</td>\n",
       "      <td>127</td>\n",
       "      <td>reed_acoustic_037</td>\n",
       "      <td>387</td>\n",
       "      <td>16000</td>\n",
       "      <td>['reverb']</td>\n",
       "      <td>0</td>\n",
       "      <td>reed_acoustic_037-068-127</td>\n",
       "      <td>7</td>\n",
       "      <td>reed</td>\n",
       "    </tr>\n",
       "    <tr>\n",
       "      <th>4</th>\n",
       "      <td>[0, 0, 0, 0, 0, 0, 0, 0, 1, 0]</td>\n",
       "      <td>77</td>\n",
       "      <td>72001</td>\n",
       "      <td>acoustic</td>\n",
       "      <td>100</td>\n",
       "      <td>flute_acoustic_002</td>\n",
       "      <td>86</td>\n",
       "      <td>16000</td>\n",
       "      <td>['reverb']</td>\n",
       "      <td>0</td>\n",
       "      <td>flute_acoustic_002-077-100</td>\n",
       "      <td>2</td>\n",
       "      <td>flute</td>\n",
       "    </tr>\n",
       "  </tbody>\n",
       "</table>\n",
       "</div>"
      ],
      "text/plain": [
       "                        qualities  pitch    note instrument_source_str  \\\n",
       "0  [0, 1, 0, 0, 0, 0, 0, 0, 0, 0]     49  217499             synthetic   \n",
       "1  [0, 0, 0, 0, 0, 0, 0, 0, 0, 0]     21  299359            electronic   \n",
       "2  [0, 0, 0, 0, 0, 0, 0, 0, 0, 0]     66   72288              acoustic   \n",
       "3  [0, 0, 0, 0, 0, 0, 0, 0, 1, 0]     68   22259              acoustic   \n",
       "4  [0, 0, 0, 0, 0, 0, 0, 0, 1, 0]     77   72001              acoustic   \n",
       "\n",
       "   velocity           instrument_str  instrument  sample_rate qualities_str  \\\n",
       "0        25       bass_synthetic_068         656        16000      ['dark']   \n",
       "1       127  keyboard_electronic_001          40        16000            []   \n",
       "2       100      guitar_acoustic_010         219        16000            []   \n",
       "3       127        reed_acoustic_037         387        16000    ['reverb']   \n",
       "4       100       flute_acoustic_002          86        16000    ['reverb']   \n",
       "\n",
       "   instrument_source                         note_str  instrument_family  \\\n",
       "0                  2       bass_synthetic_068-049-025                  0   \n",
       "1                  1  keyboard_electronic_001-021-127                  4   \n",
       "2                  0      guitar_acoustic_010-066-100                  3   \n",
       "3                  0        reed_acoustic_037-068-127                  7   \n",
       "4                  0       flute_acoustic_002-077-100                  2   \n",
       "\n",
       "  instrument_family_str  \n",
       "0                  bass  \n",
       "1              keyboard  \n",
       "2                guitar  \n",
       "3                  reed  \n",
       "4                 flute  "
      ]
     },
     "execution_count": 4,
     "metadata": {},
     "output_type": "execute_result"
    }
   ],
   "source": [
    "catalog.head()"
   ]
  },
  {
   "cell_type": "code",
   "execution_count": 5,
   "metadata": {},
   "outputs": [],
   "source": [
    "# Construct data\n",
    "data = {\"mfccs\": [], \"instrument_1\": [], \"instrument_2\": []}\n",
    "\n",
    "for index, row in combined_df.iterrows():\n",
    "    file_path = combined_wav_path.format(id=row[\"id\"])\n",
    "    y, sr = load_audio(file_path)\n",
    "    mfccs = get_mfccs(y, sr)\n",
    "    data[\"mfccs\"].append(mfccs)\n",
    "    data[\"instrument_1\"].append(row[\"instrument_1\"].split(\"_\")[0])\n",
    "    data[\"instrument_2\"].append(row[\"instrument_2\"].split(\"_\")[0])"
   ]
  },
  {
   "cell_type": "code",
   "execution_count": 6,
   "metadata": {},
   "outputs": [
    {
     "data": {
      "text/html": [
       "<div>\n",
       "<style scoped>\n",
       "    .dataframe tbody tr th:only-of-type {\n",
       "        vertical-align: middle;\n",
       "    }\n",
       "\n",
       "    .dataframe tbody tr th {\n",
       "        vertical-align: top;\n",
       "    }\n",
       "\n",
       "    .dataframe thead th {\n",
       "        text-align: right;\n",
       "    }\n",
       "</style>\n",
       "<table border=\"1\" class=\"dataframe\">\n",
       "  <thead>\n",
       "    <tr style=\"text-align: right;\">\n",
       "      <th></th>\n",
       "      <th>instrument_1</th>\n",
       "      <th>instrument_2</th>\n",
       "    </tr>\n",
       "  </thead>\n",
       "  <tbody>\n",
       "    <tr>\n",
       "      <th>0</th>\n",
       "      <td>keyboard</td>\n",
       "      <td>flute</td>\n",
       "    </tr>\n",
       "    <tr>\n",
       "      <th>1</th>\n",
       "      <td>keyboard</td>\n",
       "      <td>guitar</td>\n",
       "    </tr>\n",
       "    <tr>\n",
       "      <th>2</th>\n",
       "      <td>guitar</td>\n",
       "      <td>string</td>\n",
       "    </tr>\n",
       "    <tr>\n",
       "      <th>3</th>\n",
       "      <td>string</td>\n",
       "      <td>flute</td>\n",
       "    </tr>\n",
       "    <tr>\n",
       "      <th>4</th>\n",
       "      <td>flute</td>\n",
       "      <td>string</td>\n",
       "    </tr>\n",
       "  </tbody>\n",
       "</table>\n",
       "</div>"
      ],
      "text/plain": [
       "  instrument_1 instrument_2\n",
       "0     keyboard        flute\n",
       "1     keyboard       guitar\n",
       "2       guitar       string\n",
       "3       string        flute\n",
       "4        flute       string"
      ]
     },
     "execution_count": 6,
     "metadata": {},
     "output_type": "execute_result"
    }
   ],
   "source": [
    "# Construct dataframe for y\n",
    "y_df = pd.DataFrame({\"instrument_1\": data[\"instrument_1\"], \"instrument_2\": data[\"instrument_2\"]})\n",
    "y_df.head()"
   ]
  },
  {
   "cell_type": "code",
   "execution_count": 7,
   "metadata": {},
   "outputs": [
    {
     "data": {
      "text/plain": [
       "array(['keyboard', 'guitar', 'string', 'flute'], dtype=object)"
      ]
     },
     "execution_count": 7,
     "metadata": {},
     "output_type": "execute_result"
    }
   ],
   "source": [
    "# Get unique instruments\n",
    "unique_instruments = pd.concat([y_df[\"instrument_1\"], y_df[\"instrument_2\"]]).unique()\n",
    "\n",
    "unique_instruments"
   ]
  },
  {
   "cell_type": "code",
   "execution_count": 8,
   "metadata": {},
   "outputs": [
    {
     "data": {
      "text/html": [
       "<div>\n",
       "<style scoped>\n",
       "    .dataframe tbody tr th:only-of-type {\n",
       "        vertical-align: middle;\n",
       "    }\n",
       "\n",
       "    .dataframe tbody tr th {\n",
       "        vertical-align: top;\n",
       "    }\n",
       "\n",
       "    .dataframe thead th {\n",
       "        text-align: right;\n",
       "    }\n",
       "</style>\n",
       "<table border=\"1\" class=\"dataframe\">\n",
       "  <thead>\n",
       "    <tr style=\"text-align: right;\">\n",
       "      <th></th>\n",
       "      <th>instrument_1</th>\n",
       "      <th>instrument_2</th>\n",
       "      <th>keyboard</th>\n",
       "      <th>guitar</th>\n",
       "      <th>string</th>\n",
       "      <th>flute</th>\n",
       "    </tr>\n",
       "  </thead>\n",
       "  <tbody>\n",
       "    <tr>\n",
       "      <th>0</th>\n",
       "      <td>keyboard</td>\n",
       "      <td>flute</td>\n",
       "      <td>1</td>\n",
       "      <td>0</td>\n",
       "      <td>0</td>\n",
       "      <td>1</td>\n",
       "    </tr>\n",
       "    <tr>\n",
       "      <th>1</th>\n",
       "      <td>keyboard</td>\n",
       "      <td>guitar</td>\n",
       "      <td>1</td>\n",
       "      <td>1</td>\n",
       "      <td>0</td>\n",
       "      <td>0</td>\n",
       "    </tr>\n",
       "    <tr>\n",
       "      <th>2</th>\n",
       "      <td>guitar</td>\n",
       "      <td>string</td>\n",
       "      <td>0</td>\n",
       "      <td>1</td>\n",
       "      <td>1</td>\n",
       "      <td>0</td>\n",
       "    </tr>\n",
       "    <tr>\n",
       "      <th>3</th>\n",
       "      <td>string</td>\n",
       "      <td>flute</td>\n",
       "      <td>0</td>\n",
       "      <td>0</td>\n",
       "      <td>1</td>\n",
       "      <td>1</td>\n",
       "    </tr>\n",
       "    <tr>\n",
       "      <th>4</th>\n",
       "      <td>flute</td>\n",
       "      <td>string</td>\n",
       "      <td>0</td>\n",
       "      <td>0</td>\n",
       "      <td>1</td>\n",
       "      <td>1</td>\n",
       "    </tr>\n",
       "  </tbody>\n",
       "</table>\n",
       "</div>"
      ],
      "text/plain": [
       "  instrument_1 instrument_2  keyboard  guitar  string  flute\n",
       "0     keyboard        flute         1       0       0      1\n",
       "1     keyboard       guitar         1       1       0      0\n",
       "2       guitar       string         0       1       1      0\n",
       "3       string        flute         0       0       1      1\n",
       "4        flute       string         0       0       1      1"
      ]
     },
     "execution_count": 8,
     "metadata": {},
     "output_type": "execute_result"
    }
   ],
   "source": [
    "# Create a column for each instrument\n",
    "for instrument in unique_instruments:\n",
    "    y_df[instrument] = np.where((y_df[\"instrument_1\"] == instrument) | (y_df[\"instrument_2\"] == instrument), 1, 0)\n",
    "\n",
    "y_df.head()"
   ]
  },
  {
   "cell_type": "code",
   "execution_count": 9,
   "metadata": {},
   "outputs": [],
   "source": [
    "# Now we can construct input and targets\n",
    "inputs = np.array(data[\"mfccs\"])\n",
    "targets = y_df[unique_instruments].values\n",
    "\n",
    "# Split the data while getting the indices of the split\n",
    "indices = np.arange(inputs.shape[0])\n",
    "indices_train, indices_test = train_test_split(indices, test_size=0.3, random_state=42)\n",
    "\n",
    "# Split the data using the indices\n",
    "inputs_train, inputs_test = inputs[indices_train], inputs[indices_test]\n",
    "targets_train, targets_test = targets[indices_train], targets[indices_test]"
   ]
  },
  {
   "cell_type": "code",
   "execution_count": 10,
   "metadata": {},
   "outputs": [
    {
     "name": "stdout",
     "output_type": "stream",
     "text": [
      "Model: \"sequential\"\n",
      "_________________________________________________________________\n",
      " Layer (type)                Output Shape              Param #   \n",
      "=================================================================\n",
      " flatten (Flatten)           (None, 2249)              0         \n",
      "                                                                 \n",
      " dense (Dense)               (None, 512)               1152000   \n",
      "                                                                 \n",
      " dense_1 (Dense)             (None, 256)               131328    \n",
      "                                                                 \n",
      " dense_2 (Dense)             (None, 128)               32896     \n",
      "                                                                 \n",
      " dense_3 (Dense)             (None, 64)                8256      \n",
      "                                                                 \n",
      " dense_4 (Dense)             (None, 4)                 260       \n",
      "                                                                 \n",
      "=================================================================\n",
      "Total params: 1,324,740\n",
      "Trainable params: 1,324,740\n",
      "Non-trainable params: 0\n",
      "_________________________________________________________________\n"
     ]
    }
   ],
   "source": [
    "# Build network\n",
    "model = keras.Sequential([\n",
    "    keras.layers.Flatten(input_shape=(inputs_train.shape[1], inputs_train.shape[2])),\n",
    "    keras.layers.Dense(512, activation='relu'),\n",
    "    keras.layers.Dense(256, activation='relu'),\n",
    "    keras.layers.Dense(128, activation='relu'),\n",
    "    keras.layers.Dense(64, activation='relu'),\n",
    "    keras.layers.Dense(len(unique_instruments), activation='sigmoid')\n",
    "])\n",
    "\n",
    "optimizer = keras.optimizers.legacy.Adam(learning_rate=0.0001)\n",
    "model.compile(optimizer=optimizer, loss='binary_crossentropy', metrics=['accuracy'])\n",
    "\n",
    "model.summary()"
   ]
  },
  {
   "cell_type": "code",
   "execution_count": 11,
   "metadata": {},
   "outputs": [
    {
     "name": "stdout",
     "output_type": "stream",
     "text": [
      "Epoch 1/500\n"
     ]
    },
    {
     "name": "stderr",
     "output_type": "stream",
     "text": [
      "2024-02-14 22:52:17.243987: W tensorflow/tsl/platform/profile_utils/cpu_utils.cc:128] Failed to get CPU frequency: 0 Hz\n"
     ]
    },
    {
     "name": "stdout",
     "output_type": "stream",
     "text": [
      "55/55 [==============================] - 1s 6ms/step - loss: 2.6586 - accuracy: 0.3177 - val_loss: 0.6301 - val_accuracy: 0.2947\n",
      "Epoch 2/500\n",
      "55/55 [==============================] - 0s 5ms/step - loss: 0.4488 - accuracy: 0.3249 - val_loss: 0.4121 - val_accuracy: 0.3313\n",
      "Epoch 3/500\n",
      "55/55 [==============================] - 0s 4ms/step - loss: 0.3189 - accuracy: 0.3277 - val_loss: 0.3227 - val_accuracy: 0.4260\n",
      "Epoch 4/500\n",
      "55/55 [==============================] - 0s 5ms/step - loss: 0.2510 - accuracy: 0.3320 - val_loss: 0.2175 - val_accuracy: 0.3693\n",
      "Epoch 5/500\n",
      "55/55 [==============================] - 0s 5ms/step - loss: 0.2200 - accuracy: 0.3449 - val_loss: 0.1953 - val_accuracy: 0.3633\n",
      "Epoch 6/500\n",
      "55/55 [==============================] - 0s 4ms/step - loss: 0.1657 - accuracy: 0.3543 - val_loss: 0.1831 - val_accuracy: 0.4053\n",
      "Epoch 7/500\n",
      "55/55 [==============================] - 0s 4ms/step - loss: 0.1538 - accuracy: 0.3403 - val_loss: 0.3052 - val_accuracy: 0.3880\n",
      "Epoch 8/500\n",
      "55/55 [==============================] - 0s 5ms/step - loss: 0.1468 - accuracy: 0.3591 - val_loss: 0.1509 - val_accuracy: 0.3220\n",
      "Epoch 9/500\n",
      "55/55 [==============================] - 0s 4ms/step - loss: 0.1287 - accuracy: 0.3420 - val_loss: 0.1800 - val_accuracy: 0.4313\n",
      "Epoch 10/500\n",
      "55/55 [==============================] - 0s 4ms/step - loss: 0.1084 - accuracy: 0.3474 - val_loss: 0.1613 - val_accuracy: 0.3133\n",
      "Epoch 11/500\n",
      "55/55 [==============================] - 0s 4ms/step - loss: 0.1008 - accuracy: 0.3580 - val_loss: 0.1301 - val_accuracy: 0.3113\n",
      "Epoch 12/500\n",
      "55/55 [==============================] - 0s 4ms/step - loss: 0.0818 - accuracy: 0.3569 - val_loss: 0.1058 - val_accuracy: 0.3767\n",
      "Epoch 13/500\n",
      "55/55 [==============================] - 0s 4ms/step - loss: 0.0794 - accuracy: 0.3574 - val_loss: 0.1591 - val_accuracy: 0.4320\n",
      "Epoch 14/500\n",
      "55/55 [==============================] - 0s 4ms/step - loss: 0.0813 - accuracy: 0.3551 - val_loss: 0.1177 - val_accuracy: 0.3213\n",
      "Epoch 15/500\n",
      "55/55 [==============================] - 0s 4ms/step - loss: 0.0761 - accuracy: 0.3614 - val_loss: 0.1154 - val_accuracy: 0.3660\n",
      "Epoch 16/500\n",
      "55/55 [==============================] - 0s 4ms/step - loss: 0.0752 - accuracy: 0.3620 - val_loss: 0.1834 - val_accuracy: 0.2820\n",
      "Epoch 17/500\n",
      "55/55 [==============================] - 0s 4ms/step - loss: 0.0849 - accuracy: 0.3729 - val_loss: 0.1134 - val_accuracy: 0.3800\n",
      "Epoch 18/500\n",
      "55/55 [==============================] - 0s 4ms/step - loss: 0.0810 - accuracy: 0.3774 - val_loss: 0.1193 - val_accuracy: 0.4140\n",
      "Epoch 19/500\n",
      "55/55 [==============================] - 0s 4ms/step - loss: 0.0556 - accuracy: 0.3694 - val_loss: 0.0933 - val_accuracy: 0.4220\n",
      "Epoch 20/500\n",
      "55/55 [==============================] - 0s 4ms/step - loss: 0.0565 - accuracy: 0.3794 - val_loss: 0.1145 - val_accuracy: 0.3547\n",
      "Epoch 21/500\n",
      "55/55 [==============================] - 0s 4ms/step - loss: 0.0509 - accuracy: 0.3794 - val_loss: 0.1248 - val_accuracy: 0.3360\n",
      "Epoch 22/500\n",
      "55/55 [==============================] - 0s 4ms/step - loss: 0.0555 - accuracy: 0.3723 - val_loss: 0.1243 - val_accuracy: 0.3340\n",
      "Epoch 23/500\n",
      "55/55 [==============================] - 0s 4ms/step - loss: 0.0558 - accuracy: 0.3883 - val_loss: 0.0898 - val_accuracy: 0.3793\n",
      "Epoch 24/500\n",
      "55/55 [==============================] - 0s 5ms/step - loss: 0.0560 - accuracy: 0.3766 - val_loss: 0.1053 - val_accuracy: 0.3307\n",
      "Epoch 25/500\n",
      "55/55 [==============================] - 0s 5ms/step - loss: 0.0532 - accuracy: 0.3963 - val_loss: 0.0856 - val_accuracy: 0.3887\n",
      "Epoch 26/500\n",
      "55/55 [==============================] - 0s 5ms/step - loss: 0.0464 - accuracy: 0.3980 - val_loss: 0.0887 - val_accuracy: 0.4907\n",
      "Epoch 27/500\n",
      "55/55 [==============================] - 0s 6ms/step - loss: 0.0418 - accuracy: 0.4094 - val_loss: 0.0933 - val_accuracy: 0.3640\n",
      "Epoch 28/500\n",
      "55/55 [==============================] - 0s 5ms/step - loss: 0.0341 - accuracy: 0.3797 - val_loss: 0.0659 - val_accuracy: 0.4033\n",
      "Epoch 29/500\n",
      "55/55 [==============================] - 0s 4ms/step - loss: 0.0393 - accuracy: 0.3931 - val_loss: 0.1666 - val_accuracy: 0.3460\n",
      "Epoch 30/500\n",
      "55/55 [==============================] - 0s 4ms/step - loss: 0.0616 - accuracy: 0.3969 - val_loss: 0.1058 - val_accuracy: 0.4060\n",
      "Epoch 31/500\n",
      "55/55 [==============================] - 0s 4ms/step - loss: 0.1043 - accuracy: 0.3903 - val_loss: 0.1897 - val_accuracy: 0.2860\n",
      "Epoch 32/500\n",
      "55/55 [==============================] - 0s 5ms/step - loss: 0.0740 - accuracy: 0.4031 - val_loss: 0.1009 - val_accuracy: 0.3813\n",
      "Epoch 33/500\n",
      "55/55 [==============================] - 0s 4ms/step - loss: 0.0430 - accuracy: 0.4137 - val_loss: 0.1387 - val_accuracy: 0.3767\n",
      "Epoch 34/500\n",
      "55/55 [==============================] - 0s 5ms/step - loss: 0.0437 - accuracy: 0.3977 - val_loss: 0.1716 - val_accuracy: 0.3460\n",
      "Epoch 35/500\n",
      "55/55 [==============================] - 0s 5ms/step - loss: 0.0409 - accuracy: 0.4123 - val_loss: 0.0786 - val_accuracy: 0.3420\n",
      "Epoch 36/500\n",
      "55/55 [==============================] - 0s 5ms/step - loss: 0.0843 - accuracy: 0.4037 - val_loss: 0.1129 - val_accuracy: 0.3840\n",
      "Epoch 37/500\n",
      "55/55 [==============================] - 0s 5ms/step - loss: 0.0385 - accuracy: 0.4114 - val_loss: 0.0922 - val_accuracy: 0.3873\n",
      "Epoch 38/500\n",
      "55/55 [==============================] - 0s 4ms/step - loss: 0.0304 - accuracy: 0.4046 - val_loss: 0.0874 - val_accuracy: 0.4040\n",
      "Epoch 39/500\n",
      "55/55 [==============================] - 0s 4ms/step - loss: 0.0289 - accuracy: 0.3831 - val_loss: 0.0806 - val_accuracy: 0.3713\n",
      "Epoch 40/500\n",
      "55/55 [==============================] - 0s 5ms/step - loss: 0.0207 - accuracy: 0.4177 - val_loss: 0.0722 - val_accuracy: 0.3993\n",
      "Epoch 41/500\n",
      "55/55 [==============================] - 0s 4ms/step - loss: 0.0190 - accuracy: 0.4106 - val_loss: 0.0659 - val_accuracy: 0.4047\n",
      "Epoch 42/500\n",
      "55/55 [==============================] - 0s 4ms/step - loss: 0.0177 - accuracy: 0.4074 - val_loss: 0.0717 - val_accuracy: 0.3813\n",
      "Epoch 43/500\n",
      "55/55 [==============================] - 0s 5ms/step - loss: 0.0147 - accuracy: 0.4086 - val_loss: 0.0906 - val_accuracy: 0.3867\n",
      "Epoch 44/500\n",
      "55/55 [==============================] - 0s 5ms/step - loss: 0.0271 - accuracy: 0.3949 - val_loss: 0.1205 - val_accuracy: 0.4120\n",
      "Epoch 45/500\n",
      "55/55 [==============================] - 0s 5ms/step - loss: 0.0276 - accuracy: 0.4140 - val_loss: 0.0923 - val_accuracy: 0.4413\n",
      "Epoch 46/500\n",
      "55/55 [==============================] - 0s 5ms/step - loss: 0.0440 - accuracy: 0.4163 - val_loss: 0.0874 - val_accuracy: 0.3560\n"
     ]
    }
   ],
   "source": [
    "# Train model until accuracy converges\n",
    "\n",
    "# Define early stopping callback\n",
    "early_stopping = keras.callbacks.EarlyStopping(monitor='val_accuracy', patience=20, restore_best_weights=True)\n",
    "\n",
    "history = model.fit(inputs_train, targets_train, validation_data=(inputs_test, targets_test), epochs=500, batch_size=64, callbacks=[early_stopping])"
   ]
  },
  {
   "cell_type": "code",
   "execution_count": 12,
   "metadata": {},
   "outputs": [
    {
     "data": {
      "image/png": "[encoded data removed]",
      "text/plain": [
       "<Figure size 640x480 with 1 Axes>"
      ]
     },
     "metadata": {},
     "output_type": "display_data"
    }
   ],
   "source": [
    "# Plot accuracy\n",
    "plt.plot(history.history['accuracy'], label='accuracy')\n",
    "plt.plot(history.history['val_accuracy'], label='val_accuracy')\n",
    "plt.xlabel('Epoch')\n",
    "plt.ylabel('Accuracy')\n",
    "plt.ylim([0, 1])\n",
    "plt.legend(loc='lower right')\n",
    "plt.show()"
   ]
  },
  {
   "cell_type": "code",
   "execution_count": 13,
   "metadata": {},
   "outputs": [
    {
     "name": "stdout",
     "output_type": "stream",
     "text": [
      "47/47 [==============================] - 0s 1ms/step\n"
     ]
    }
   ],
   "source": [
    "# Predict on test set\n",
    "predictions = model.predict(inputs_test)\n",
    "\n",
    "# Convert each prediction to 1 or 0\n",
    "predictions = np.where(predictions > 0.5, 1, 0)\n",
    "\n",
    "# Convert predictions to instrument names\n",
    "predicted_instruments = []\n",
    "for prediction in predictions:\n",
    "    instruments = []\n",
    "    for i, value in enumerate(prediction):\n",
    "        if value == 1:\n",
    "            instruments.append(unique_instruments[i])\n",
    "    predicted_instruments.append(instruments)\n",
    "\n"
   ]
  },
  {
   "cell_type": "code",
   "execution_count": 14,
   "metadata": {},
   "outputs": [
    {
     "name": "stdout",
     "output_type": "stream",
     "text": [
      "ith prediction: ['string', 'flute']\n"
     ]
    },
    {
     "data": {
      "text/plain": [
       "id                                     4615\n",
       "instrument_1    string_acoustic_056-074-075\n",
       "instrument_2     flute_acoustic_002-084-075\n",
       "Name: 4615, dtype: object"
      ]
     },
     "execution_count": 14,
     "metadata": {},
     "output_type": "execute_result"
    }
   ],
   "source": [
    "i = 50\n",
    "index = indices_test[i]\n",
    "\n",
    "print(\"ith prediction:\", predicted_instruments[i])\n",
    "\n",
    "row = combined_df.iloc[index]\n",
    "row"
   ]
  },
  {
   "cell_type": "code",
   "execution_count": 18,
   "metadata": {},
   "outputs": [
    {
     "name": "stdout",
     "output_type": "stream",
     "text": [
      "1/1 [==============================] - 0s 36ms/step\n"
     ]
    },
    {
     "data": {
      "text/plain": [
       "['guitar', 'string']"
      ]
     },
     "execution_count": 18,
     "metadata": {},
     "output_type": "execute_result"
    }
   ],
   "source": [
    "# Testing\n",
    "\n",
    "def get_prediction_by_id(id):\n",
    "    combined_df.loc[combined_df[\"id\"] == id]\n",
    "\n",
    "    file_path = combined_wav_path.format(id=id)\n",
    "    y, sr = load_audio(file_path)\n",
    "    mfccs = get_mfccs(y, sr)\n",
    "    mfccs = np.expand_dims(mfccs, axis=0)\n",
    "\n",
    "    prediction = model.predict(mfccs)\n",
    "    prediction = np.where(prediction > 0.5, 1, 0)\n",
    "    instruments = []\n",
    "    for i, value in enumerate(prediction[0]):\n",
    "        if value == 1:\n",
    "            instruments.append(unique_instruments[i])\n",
    "    \n",
    "    return instruments\n",
    "\n",
    "id = 31\n",
    "get_prediction_by_id(id)"
   ]
  },
  {
   "cell_type": "code",
   "execution_count": 1,
   "metadata": {},
   "outputs": [],
   "source": [
    "import numpy as np"
   ]
  },
  {
   "cell_type": "code",
   "execution_count": 27,
   "metadata": {},
   "outputs": [
    {
     "data": {
      "text/plain": [
       "2.9993"
      ]
     },
     "execution_count": 27,
     "metadata": {},
     "output_type": "execute_result"
    }
   ],
   "source": [
    "n = 100000\n",
    "ys = []\n",
    "\n",
    "# roll a die until 6 appears. if 5 appears, start over\n",
    "while len(ys) < n:\n",
    "    i = 0\n",
    "    while True:\n",
    "        i += 1\n",
    "        x = np.random.randint(1, 7)\n",
    "        if x == 6:\n",
    "            ys.append(i)\n",
    "            break\n",
    "        elif x == 5:\n",
    "            break\n",
    "\n",
    "np.mean(ys)"
   ]
  },
  {
   "cell_type": "code",
   "execution_count": 30,
   "metadata": {},
   "outputs": [
    {
     "data": {
      "text/plain": [
       "0.20028"
      ]
     },
     "execution_count": 30,
     "metadata": {},
     "output_type": "execute_result"
    }
   ],
   "source": [
    "ys = []\n",
    "while len(ys) < n:\n",
    "    while True:\n",
    "        x = np.random.randint(1, 7)\n",
    "        if x != 5:\n",
    "            ys.append(x)\n",
    "            break\n",
    "np.mean(np.array(ys, dtype=int) == 6)"
   ]
  },
  {
   "cell_type": "code",
   "execution_count": 37,
   "metadata": {},
   "outputs": [],
   "source": [
    "n = 1000000\n",
    "ys = []\n",
    "for i in range(n):\n",
    "    y = 0\n",
    "    while y < 15:\n",
    "        x = np.random.randint(1, 7)\n",
    "        if x == 6:\n",
    "            y = 0\n",
    "            break\n",
    "        else:\n",
    "            y += x\n",
    "    ys.append(y)"
   ]
  },
  {
   "cell_type": "code",
   "execution_count": 38,
   "metadata": {},
   "outputs": [
    {
     "data": {
      "text/plain": [
       "6.150287"
      ]
     },
     "execution_count": 38,
     "metadata": {},
     "output_type": "execute_result"
    }
   ],
   "source": [
    "np.mean(ys)"
   ]
  },
  {
   "cell_type": "code",
   "execution_count": 46,
   "metadata": {},
   "outputs": [],
   "source": [
    "ys = []\n",
    "n = 100000\n",
    "\n",
    "for i in range(n):\n",
    "    x = 2 * np.random.randint(1, 7)\n",
    "    y = np.random.randint(1, 7)\n",
    "    if y%2 == 0:\n",
    "        x -= 1\n",
    "    ys.append(x)"
   ]
  },
  {
   "cell_type": "code",
   "execution_count": 47,
   "metadata": {},
   "outputs": [
    {
     "name": "stdout",
     "output_type": "stream",
     "text": [
      "1: 0.08346\n",
      "2: 0.0837\n",
      "3: 0.08363\n",
      "4: 0.08356\n",
      "5: 0.08385\n",
      "6: 0.08191\n",
      "7: 0.08352\n",
      "8: 0.08318\n",
      "9: 0.08275\n",
      "10: 0.08442\n",
      "11: 0.08419\n",
      "12: 0.08183\n"
     ]
    }
   ],
   "source": [
    "vals, freqs = np.unique(ys, return_counts=True)\n",
    "for val in vals:\n",
    "    print(f\"{val}: {freqs[val-1]/sum(freqs)}\")"
   ]
  },
  {
   "cell_type": "code",
   "execution_count": 53,
   "metadata": {},
   "outputs": [
    {
     "data": {
      "text/plain": [
       "array([[ 1.        , -0.01437431],\n",
       "       [-0.01437431,  1.        ]])"
      ]
     },
     "execution_count": 53,
     "metadata": {},
     "output_type": "execute_result"
    }
   ],
   "source": [
    "y = np.random.normal(0, 1, 1000)\n",
    "x = np.random.normal(0, 1, 1000)\n",
    "\n",
    "np.corrcoef(x, y)"
   ]
  },
  {
   "cell_type": "code",
   "execution_count": 58,
   "metadata": {},
   "outputs": [],
   "source": [
    "ys = []\n",
    "n = 1000000\n",
    "for i in range(n):\n",
    "    x = 0\n",
    "    while x < 100:\n",
    "        y = np.random.randint(1, 7)\n",
    "        x += y\n",
    "    if x == 100:\n",
    "        ys.append(x-y)\n"
   ]
  },
  {
   "cell_type": "code",
   "execution_count": 59,
   "metadata": {},
   "outputs": [
    {
     "name": "stdout",
     "output_type": "stream",
     "text": [
      "94: 0.16768584019685742\n",
      "95: 0.16639072557921375\n",
      "96: 0.16618420730234626\n",
      "97: 0.16552264875441478\n",
      "98: 0.16697877762181954\n",
      "99: 0.16723780054534826\n"
     ]
    }
   ],
   "source": [
    "vals, freqs = np.unique(ys, return_counts=True)\n",
    "for val in vals:\n",
    "    print(f\"{val}: {freqs[val-94]/sum(freqs)}\")"
   ]
  },
  {
   "cell_type": "code",
   "execution_count": 62,
   "metadata": {},
   "outputs": [],
   "source": [
    "y = 1\n",
    "for i in range(1, 101):\n",
    "    y *= (2001 - i)/2000"
   ]
  },
  {
   "cell_type": "code",
   "execution_count": 63,
   "metadata": {},
   "outputs": [
    {
     "data": {
      "text/plain": [
       "0.08069358414212661"
      ]
     },
     "execution_count": 63,
     "metadata": {},
     "output_type": "execute_result"
    }
   ],
   "source": [
    "y"
   ]
  },
  {
   "cell_type": "code",
   "execution_count": 76,
   "metadata": {},
   "outputs": [],
   "source": [
    "n = 10000\n",
    "ys = []\n",
    "for i in range(n):\n",
    "    xs = []\n",
    "    while(len(xs) == len(set(xs))):\n",
    "        xs.append(np.random.randint(1, 20001))\n",
    "    ys.append(len(xs)-1)"
   ]
  },
  {
   "cell_type": "code",
   "execution_count": 77,
   "metadata": {},
   "outputs": [
    {
     "data": {
      "text/plain": [
       "178.592"
      ]
     },
     "execution_count": 77,
     "metadata": {},
     "output_type": "execute_result"
    }
   ],
   "source": [
    "np.mean(ys)"
   ]
  },
  {
   "cell_type": "code",
   "execution_count": 87,
   "metadata": {},
   "outputs": [],
   "source": [
    "import math\n",
    "\n",
    "y = 0\n",
    "for k in range(1, 2001):\n",
    "    x = 1\n",
    "    for i in range(0, k):\n",
    "        x *= (2000-i)/2000\n",
    "    y += x"
   ]
  },
  {
   "cell_type": "code",
   "execution_count": 34,
   "metadata": {},
   "outputs": [
    {
     "data": {
      "text/plain": [
       "0.20115"
      ]
     },
     "execution_count": 34,
     "metadata": {},
     "output_type": "execute_result"
    }
   ],
   "source": [
    "ys = []\n",
    "n = 100000\n",
    "for _ in range(n):\n",
    "    i = 2\n",
    "    x = np.random.randint(1, 7)\n",
    "    y = np.random.randint(1, 7)\n",
    "    cons = (x == 6) and (y == 6)\n",
    "    while (i < 10) and (not cons):\n",
    "        i += 1\n",
    "        x = y\n",
    "        y = np.random.randint(1, 7)\n",
    "        cons = ((x == 6) and (y == 6))\n",
    "    ys.append(cons)\n",
    "\n",
    "\n",
    "np.mean(ys)"
   ]
  },
  {
   "cell_type": "code",
   "execution_count": 30,
   "metadata": {},
   "outputs": [
    {
     "data": {
      "text/plain": [
       "4.83715980319311"
      ]
     },
     "execution_count": 30,
     "metadata": {},
     "output_type": "execute_result"
    }
   ],
   "source": [
    "n = 9\n",
    "6 * (1 - (5/6)**n)"
   ]
  },
  {
   "cell_type": "code",
   "execution_count": 36,
   "metadata": {},
   "outputs": [
    {
     "data": {
      "text/plain": [
       "array([1.20746735e-08, 1.53064671e-78, 0.00000000e+00, 0.00000000e+00,\n",
       "       0.00000000e+00, 0.00000000e+00, 0.00000000e+00, 0.00000000e+00,\n",
       "       0.00000000e+00, 0.00000000e+00, 0.00000000e+00])"
      ]
     },
     "execution_count": 36,
     "metadata": {},
     "output_type": "execute_result"
    }
   ],
   "source": [
    "M = np.array([\n",
    "    [5/6, 1/6, 0, 0, 0, 0, 0, 0, 0, 0, 0],\n",
    "    [5/6, 0, 1/6, 0, 0, 0, 0, 0, 0, 0, 0],\n",
    "    [5/6, 0, 0, 1/6, 0, 0, 0, 0, 0, 0, 0],\n",
    "    [5/6, 0, 0, 0, 1/6, 0, 0, 0, 0, 0, 0],\n",
    "    [5/6, 0, 0, 0, 0, 1/6, 0, 0, 0, 0, 0],\n",
    "    [5/6, 0, 0, 0, 0, 0, 1/6, 0, 0, 0, 0],\n",
    "    [5/6, 0, 0, 0, 0, 0, 0, 1/6, 0, 0, 0],\n",
    "    [5/6, 0, 0, 0, 0, 0, 0, 0, 1/6, 0, 0],\n",
    "    [5/6, 0, 0, 0, 0, 0, 0, 0, 0, 1/6, 0],\n",
    "    [5/6, 0, 0, 0, 0, 0, 0, 0, 0, 0, 1/6],\n",
    "    [0, 0, 0, 0, 0, 0, 0, 0, 0, 0, 1]\n",
    "])\n",
    "\n",
    "np.power(M, 100)[0]"
   ]
  },
  {
   "cell_type": "code",
   "execution_count": null,
   "metadata": {},
   "outputs": [],
   "source": []
  }
 ],
 "metadata": {
  "kernelspec": {
   "display_name": "musicr",
   "language": "python",
   "name": "python3"
  },
  "language_info": {
   "codemirror_mode": {
    "name": "ipython",
    "version": 3
   },
   "file_extension": ".py",
   "mimetype": "text/x-python",
   "name": "python",
   "nbconvert_exporter": "python",
   "pygments_lexer": "ipython3",
   "version": "3.11.5"
  }
 },
 "nbformat": 4,
 "nbformat_minor": 2
}
