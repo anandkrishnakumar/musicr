{
 "cells": [
  {
   "cell_type": "code",
   "execution_count": 31,
   "metadata": {},
   "outputs": [],
   "source": [
    "import numpy as np\n",
    "import os\n",
    "\n",
    "os.environ[\"KERAS_BACKEND\"] = \"jax\"\n",
    "\n",
    "# Note that Keras should only be imported after the backend\n",
    "# has been configured. The backend cannot be changed once the\n",
    "# package is imported.\n",
    "import keras\n",
    "import pydub\n",
    "import matplotlib.pyplot as plt"
   ]
  },
  {
   "cell_type": "code",
   "execution_count": 32,
   "metadata": {},
   "outputs": [],
   "source": [
    "from keras import Sequential\n",
    "from keras.layers import Dense"
   ]
  },
  {
   "cell_type": "code",
   "execution_count": 33,
   "metadata": {},
   "outputs": [],
   "source": [
    "def read(f, normalized=False):\n",
    "    \"\"\"MP3 to numpy array\"\"\"\n",
    "    a = pydub.AudioSegment.from_mp3(f)\n",
    "    y = np.array(a.get_array_of_samples())\n",
    "    if a.channels == 2:\n",
    "        y = y.reshape((-1, 2))\n",
    "    if normalized:\n",
    "        return a.frame_rate, np.float32(y) / 2**15\n",
    "    else:\n",
    "        return a.frame_rate, y\n",
    "\n",
    "def write(f, sr, x, normalized=False):\n",
    "    \"\"\"numpy array to MP3\"\"\"\n",
    "    channels = 2 if (x.ndim == 2 and x.shape[1] == 2) else 1\n",
    "    if normalized:  # normalized array - each item should be a float in [-1, 1)\n",
    "        y = np.int16(x * 2 ** 15)\n",
    "    else:\n",
    "        y = np.int16(x)\n",
    "    song = pydub.AudioSegment(y.tobytes(), frame_rate=sr, sample_width=2, channels=channels)\n",
    "    song.export(f, format=\"mp3\", bitrate=\"320k\")\n"
   ]
  },
  {
   "cell_type": "code",
   "execution_count": 34,
   "metadata": {},
   "outputs": [
    {
     "data": {
      "image/png": "[encoded data removed]",
      "text/plain": [
       "<Figure size 640x480 with 1 Axes>"
      ]
     },
     "metadata": {},
     "output_type": "display_data"
    }
   ],
   "source": [
    "# Generate sine wave\n",
    "def gen_sine(freq, sr, secs, noise_sd=False, amplitude=0.5):\n",
    "    num = int(sr*secs)\n",
    "    testing_np_version = np.zeros((num, 2))\n",
    "    testing_np_version[:, 0] = np.sin(2 * np.pi * np.arange(num) * freq / sr) * amplitude\n",
    "    testing_np_version[:, 1] = np.sin(2 * np.pi * np.arange(num) * freq / sr) * amplitude\n",
    "    \n",
    "    if noise_sd is not None:\n",
    "        # Add noise\n",
    "        testing_np_version[:, 0] += np.random.normal(0, noise_sd, size=num)\n",
    "        testing_np_version[:, 1] += np.random.normal(0, noise_sd, size=num)\n",
    "\n",
    "    return testing_np_version\n",
    "\n",
    "secs = 5\n",
    "sr = 48000\n",
    "freq = 300\n",
    "testing_np_version = gen_sine(freq, sr, secs, noise_sd=0.03)\n",
    "plt.plot(testing_np_version[1:100, 0])\n",
    "plt.show()"
   ]
  },
  {
   "cell_type": "code",
   "execution_count": 35,
   "metadata": {},
   "outputs": [],
   "source": [
    "write(\"mp3_check.mp3\",sr,testing_np_version,normalized=True)"
   ]
  },
  {
   "cell_type": "code",
   "execution_count": 47,
   "metadata": {},
   "outputs": [
    {
     "data": {
      "text/plain": [
       "(70000, 500)"
      ]
     },
     "execution_count": 47,
     "metadata": {},
     "output_type": "execute_result"
    }
   ],
   "source": [
    "# Randomly generate frequencies between C2 and C8\n",
    "c2 = 65.41\n",
    "c8 = 4186.01\n",
    "c7 = 2093.00\n",
    "\n",
    "# Generate N training samples\n",
    "N = 100000\n",
    "freqs = np.random.uniform(c2, c8, size=N)\n",
    "noise_sds = np.random.exponential(0.02, size=N)\n",
    "amplitudes = np.random.uniform(0.4, 1, size=N)\n",
    "X_lst = []\n",
    "for i in range(N):\n",
    "    sine = gen_sine(freqs[i], sr=48000, secs=1/96, noise_sd=noise_sds[i], amplitude=amplitudes[i])[:, 0]\n",
    "    X_lst.append(sine)\n",
    "\n",
    "X = np.stack(X_lst)\n",
    "y = freqs\n",
    "split = 0.7\n",
    "X_train = X[:int(split*len(X_lst))]\n",
    "y_train = freqs[:int(split*len(X_lst))]\n",
    "X_test = X[int(split*len(X_lst)):]\n",
    "y_test = freqs[int(split*len(X_lst)):]\n",
    "X_train.shape"
   ]
  },
  {
   "cell_type": "code",
   "execution_count": 48,
   "metadata": {},
   "outputs": [
    {
     "name": "stdout",
     "output_type": "stream",
     "text": [
      "Model: \"sequential_3\"\n",
      "_________________________________________________________________\n",
      " Layer (type)                Output Shape              Param #   \n",
      "=================================================================\n",
      " dense_9 (Dense)             (None, 500)               250500    \n",
      "                                                                 \n"
     ]
    },
    {
     "name": "stdout",
     "output_type": "stream",
     "text": [
      " dense_10 (Dense)            (None, 500)               250500    \n",
      "                                                                 \n",
      " dense_11 (Dense)            (None, 1)                 501       \n",
      "                                                                 \n",
      "=================================================================\n",
      "Total params: 501,501\n",
      "Trainable params: 501,501\n",
      "Non-trainable params: 0\n",
      "_________________________________________________________________\n"
     ]
    }
   ],
   "source": [
    "# Build network\n",
    "input_shape = len(X_lst[0])\n",
    " # create model\n",
    "model = keras.Sequential()\n",
    "model.add(Dense(input_shape, input_shape=(input_shape,), kernel_initializer='normal', activation='relu'))\n",
    "model.add(Dense(input_shape, kernel_initializer='normal', activation='relu'))\n",
    "model.add(Dense(1, kernel_initializer='normal'))\n",
    "# Compile model\n",
    "model.compile(loss='mean_squared_error', optimizer='adam')\n",
    " \n",
    "# Display a summary of the model architecture.\n",
    "model.summary()"
   ]
  },
  {
   "cell_type": "code",
   "execution_count": 49,
   "metadata": {},
   "outputs": [
    {
     "name": "stdout",
     "output_type": "stream",
     "text": [
      "Epoch 1/100\n",
      "8/8 [==============================] - 1s 127ms/step - loss: 5899516.0000 - val_loss: 5830566.0000\n",
      "Epoch 2/100\n",
      "8/8 [==============================] - 1s 99ms/step - loss: 5827524.5000 - val_loss: 5721352.0000\n",
      "Epoch 3/100\n",
      "8/8 [==============================] - 1s 98ms/step - loss: 5673400.5000 - val_loss: 5500871.5000\n",
      "Epoch 4/100\n",
      "8/8 [==============================] - 1s 98ms/step - loss: 5380704.5000 - val_loss: 5109420.5000\n",
      "Epoch 5/100\n",
      "8/8 [==============================] - 1s 97ms/step - loss: 4890486.5000 - val_loss: 4488050.5000\n",
      "Epoch 6/100\n",
      "8/8 [==============================] - 1s 95ms/step - loss: 4150407.2500 - val_loss: 3609737.7500\n",
      "Epoch 7/100\n",
      "8/8 [==============================] - 1s 97ms/step - loss: 3165693.2500 - val_loss: 2526764.7500\n",
      "Epoch 8/100\n",
      "8/8 [==============================] - 1s 95ms/step - loss: 2046360.3750 - val_loss: 1428025.5000\n",
      "Epoch 9/100\n",
      "8/8 [==============================] - 1s 101ms/step - loss: 1046155.7500 - val_loss: 631606.5625\n",
      "Epoch 10/100\n",
      "8/8 [==============================] - 1s 105ms/step - loss: 471849.2188 - val_loss: 355647.0312\n",
      "Epoch 11/100\n",
      "8/8 [==============================] - 1s 106ms/step - loss: 359482.7812 - val_loss: 371434.3750\n",
      "Epoch 12/100\n",
      "8/8 [==============================] - 1s 101ms/step - loss: 369513.6875 - val_loss: 356053.9375\n",
      "Epoch 13/100\n",
      "8/8 [==============================] - 1s 94ms/step - loss: 340377.9062 - val_loss: 327638.5938\n",
      "Epoch 14/100\n",
      "8/8 [==============================] - 1s 102ms/step - loss: 324108.8125 - val_loss: 323835.0625\n",
      "Epoch 15/100\n",
      "8/8 [==============================] - 1s 107ms/step - loss: 323243.1250 - val_loss: 322811.2188\n",
      "Epoch 16/100\n",
      "8/8 [==============================] - 1s 110ms/step - loss: 320870.1562 - val_loss: 320236.0938\n",
      "Epoch 17/100\n",
      "8/8 [==============================] - 1s 99ms/step - loss: 318608.0312 - val_loss: 319104.4375\n",
      "Epoch 18/100\n",
      "8/8 [==============================] - 1s 94ms/step - loss: 317723.7500 - val_loss: 318495.2188\n",
      "Epoch 19/100\n",
      "8/8 [==============================] - 1s 99ms/step - loss: 316859.5312 - val_loss: 317684.1875\n",
      "Epoch 20/100\n",
      "8/8 [==============================] - 1s 114ms/step - loss: 315916.4375 - val_loss: 316938.0938\n",
      "Epoch 21/100\n",
      "8/8 [==============================] - 1s 97ms/step - loss: 315138.8125 - val_loss: 316308.4375\n",
      "Epoch 22/100\n",
      "8/8 [==============================] - 1s 140ms/step - loss: 314360.4375 - val_loss: 315503.6562\n",
      "Epoch 23/100\n",
      "8/8 [==============================] - 1s 116ms/step - loss: 313551.4688 - val_loss: 314734.2812\n",
      "Epoch 24/100\n",
      "8/8 [==============================] - 1s 116ms/step - loss: 312745.6875 - val_loss: 314072.8750\n",
      "Epoch 25/100\n",
      "8/8 [==============================] - 1s 131ms/step - loss: 311955.3125 - val_loss: 313378.7188\n",
      "Epoch 26/100\n",
      "8/8 [==============================] - 1s 108ms/step - loss: 311141.0000 - val_loss: 312614.5625\n",
      "Epoch 27/100\n",
      "8/8 [==============================] - 1s 109ms/step - loss: 310346.4688 - val_loss: 311827.1875\n",
      "Epoch 28/100\n",
      "8/8 [==============================] - 1s 126ms/step - loss: 309497.0938 - val_loss: 310908.5625\n",
      "Epoch 29/100\n",
      "8/8 [==============================] - 1s 102ms/step - loss: 308695.1562 - val_loss: 310135.9062\n",
      "Epoch 30/100\n",
      "8/8 [==============================] - 1s 106ms/step - loss: 307808.0000 - val_loss: 309459.7188\n",
      "Epoch 31/100\n",
      "8/8 [==============================] - 1s 105ms/step - loss: 306949.7188 - val_loss: 308556.8750\n",
      "Epoch 32/100\n",
      "8/8 [==============================] - 1s 119ms/step - loss: 306068.5938 - val_loss: 307711.8438\n",
      "Epoch 33/100\n",
      "8/8 [==============================] - 1s 108ms/step - loss: 305182.2812 - val_loss: 306946.0938\n",
      "Epoch 34/100\n",
      "8/8 [==============================] - 1s 122ms/step - loss: 304286.0938 - val_loss: 306050.5000\n",
      "Epoch 35/100\n",
      "8/8 [==============================] - 1s 110ms/step - loss: 303412.9375 - val_loss: 305090.3438\n",
      "Epoch 36/100\n",
      "8/8 [==============================] - 1s 114ms/step - loss: 302462.0938 - val_loss: 304259.1250\n",
      "Epoch 37/100\n",
      "8/8 [==============================] - 1s 107ms/step - loss: 301518.3750 - val_loss: 303398.5938\n",
      "Epoch 38/100\n",
      "8/8 [==============================] - 1s 104ms/step - loss: 300576.6875 - val_loss: 302446.6562\n",
      "Epoch 39/100\n",
      "8/8 [==============================] - 1s 107ms/step - loss: 299605.0000 - val_loss: 301461.3750\n",
      "Epoch 40/100\n",
      "8/8 [==============================] - 1s 107ms/step - loss: 298675.1562 - val_loss: 300494.9062\n",
      "Epoch 41/100\n",
      "8/8 [==============================] - 1s 100ms/step - loss: 297678.7188 - val_loss: 299523.4688\n",
      "Epoch 42/100\n",
      "8/8 [==============================] - 1s 117ms/step - loss: 296660.5938 - val_loss: 298580.5312\n",
      "Epoch 43/100\n",
      "8/8 [==============================] - 1s 115ms/step - loss: 295655.6250 - val_loss: 297643.6875\n",
      "Epoch 44/100\n",
      "8/8 [==============================] - 1s 116ms/step - loss: 294633.5312 - val_loss: 296579.8438\n",
      "Epoch 45/100\n",
      "8/8 [==============================] - 1s 117ms/step - loss: 293614.0312 - val_loss: 295537.3125\n",
      "Epoch 46/100\n",
      "8/8 [==============================] - 1s 117ms/step - loss: 292572.3750 - val_loss: 294477.7500\n",
      "Epoch 47/100\n",
      "8/8 [==============================] - 1s 126ms/step - loss: 291480.4062 - val_loss: 293498.6875\n",
      "Epoch 48/100\n",
      "8/8 [==============================] - 1s 96ms/step - loss: 290369.3438 - val_loss: 292364.8438\n",
      "Epoch 49/100\n",
      "8/8 [==============================] - 1s 103ms/step - loss: 289325.0625 - val_loss: 291292.9688\n",
      "Epoch 50/100\n",
      "8/8 [==============================] - 1s 101ms/step - loss: 288171.4688 - val_loss: 290252.9688\n",
      "Epoch 51/100\n",
      "8/8 [==============================] - 1s 99ms/step - loss: 287068.3750 - val_loss: 288931.5312\n",
      "Epoch 52/100\n",
      "8/8 [==============================] - 1s 102ms/step - loss: 285893.1562 - val_loss: 287999.3750\n",
      "Epoch 53/100\n",
      "8/8 [==============================] - 1s 98ms/step - loss: 284755.4375 - val_loss: 286804.4688\n",
      "Epoch 54/100\n",
      "8/8 [==============================] - 1s 98ms/step - loss: 283574.0625 - val_loss: 285587.0938\n",
      "Epoch 55/100\n",
      "8/8 [==============================] - 1s 113ms/step - loss: 282383.5312 - val_loss: 284336.1250\n",
      "Epoch 56/100\n",
      "8/8 [==============================] - 1s 105ms/step - loss: 281228.7188 - val_loss: 283203.4375\n",
      "Epoch 57/100\n",
      "8/8 [==============================] - 1s 107ms/step - loss: 279952.2188 - val_loss: 282038.0625\n",
      "Epoch 58/100\n",
      "8/8 [==============================] - 1s 111ms/step - loss: 278656.4062 - val_loss: 280615.8438\n",
      "Epoch 59/100\n",
      "8/8 [==============================] - 1s 112ms/step - loss: 277402.3125 - val_loss: 279428.8438\n",
      "Epoch 60/100\n",
      "8/8 [==============================] - 1s 118ms/step - loss: 276118.3438 - val_loss: 278117.9375\n",
      "Epoch 61/100\n",
      "8/8 [==============================] - 1s 110ms/step - loss: 274817.2812 - val_loss: 276866.0625\n",
      "Epoch 62/100\n",
      "8/8 [==============================] - 1s 122ms/step - loss: 273502.4688 - val_loss: 275363.5312\n",
      "Epoch 63/100\n",
      "8/8 [==============================] - 1s 114ms/step - loss: 272055.6875 - val_loss: 274129.7812\n",
      "Epoch 64/100\n",
      "8/8 [==============================] - 1s 119ms/step - loss: 270735.5625 - val_loss: 272680.6562\n",
      "Epoch 65/100\n",
      "8/8 [==============================] - 1s 109ms/step - loss: 269330.9062 - val_loss: 271242.6875\n",
      "Epoch 66/100\n",
      "8/8 [==============================] - 1s 123ms/step - loss: 267868.9688 - val_loss: 269822.5625\n",
      "Epoch 67/100\n",
      "8/8 [==============================] - 1s 101ms/step - loss: 266387.0312 - val_loss: 268482.1875\n",
      "Epoch 68/100\n",
      "8/8 [==============================] - 1s 98ms/step - loss: 264909.2500 - val_loss: 266841.7500\n",
      "Epoch 69/100\n",
      "8/8 [==============================] - 1s 91ms/step - loss: 263404.9062 - val_loss: 265342.6562\n",
      "Epoch 70/100\n",
      "8/8 [==============================] - 1s 101ms/step - loss: 261918.2656 - val_loss: 263746.3125\n",
      "Epoch 71/100\n",
      "8/8 [==============================] - 1s 95ms/step - loss: 260355.7188 - val_loss: 262292.9375\n",
      "Epoch 72/100\n",
      "8/8 [==============================] - 1s 102ms/step - loss: 258779.9062 - val_loss: 260648.2188\n",
      "Epoch 73/100\n",
      "8/8 [==============================] - 1s 113ms/step - loss: 257129.2344 - val_loss: 258956.9531\n",
      "Epoch 74/100\n",
      "8/8 [==============================] - 1s 112ms/step - loss: 255452.2656 - val_loss: 257212.2344\n",
      "Epoch 75/100\n",
      "8/8 [==============================] - 1s 100ms/step - loss: 253775.1562 - val_loss: 255608.1406\n",
      "Epoch 76/100\n",
      "8/8 [==============================] - 1s 98ms/step - loss: 251985.5938 - val_loss: 253803.9844\n",
      "Epoch 77/100\n",
      "8/8 [==============================] - 1s 101ms/step - loss: 250242.0469 - val_loss: 251971.5000\n",
      "Epoch 78/100\n",
      "8/8 [==============================] - 1s 110ms/step - loss: 248491.8594 - val_loss: 250191.7188\n",
      "Epoch 79/100\n",
      "8/8 [==============================] - 1s 98ms/step - loss: 246674.8906 - val_loss: 248236.6719\n",
      "Epoch 80/100\n",
      "8/8 [==============================] - 1s 106ms/step - loss: 244686.7969 - val_loss: 246324.0469\n",
      "Epoch 81/100\n",
      "8/8 [==============================] - 1s 101ms/step - loss: 242755.4062 - val_loss: 244344.3750\n",
      "Epoch 82/100\n",
      "8/8 [==============================] - 1s 109ms/step - loss: 240838.2969 - val_loss: 242291.0781\n",
      "Epoch 83/100\n",
      "8/8 [==============================] - 1s 101ms/step - loss: 238786.3594 - val_loss: 240309.4062\n",
      "Epoch 84/100\n",
      "8/8 [==============================] - 1s 102ms/step - loss: 236683.9531 - val_loss: 238166.1719\n",
      "Epoch 85/100\n",
      "8/8 [==============================] - 1s 103ms/step - loss: 234587.5938 - val_loss: 236024.9375\n",
      "Epoch 86/100\n",
      "8/8 [==============================] - 1s 107ms/step - loss: 232378.8281 - val_loss: 233678.3906\n",
      "Epoch 87/100\n",
      "8/8 [==============================] - 1s 98ms/step - loss: 230110.2656 - val_loss: 231449.3438\n",
      "Epoch 88/100\n",
      "8/8 [==============================] - 1s 91ms/step - loss: 227911.9062 - val_loss: 229148.2812\n",
      "Epoch 89/100\n",
      "8/8 [==============================] - 1s 98ms/step - loss: 225493.5000 - val_loss: 226658.4531\n",
      "Epoch 90/100\n",
      "8/8 [==============================] - 1s 110ms/step - loss: 223114.9062 - val_loss: 224172.9062\n",
      "Epoch 91/100\n",
      "8/8 [==============================] - 1s 120ms/step - loss: 220475.8281 - val_loss: 221597.0781\n",
      "Epoch 92/100\n",
      "8/8 [==============================] - 1s 122ms/step - loss: 218029.3594 - val_loss: 219181.0000\n",
      "Epoch 93/100\n",
      "8/8 [==============================] - 1s 133ms/step - loss: 215340.1875 - val_loss: 216176.1562\n",
      "Epoch 94/100\n",
      "8/8 [==============================] - 1s 107ms/step - loss: 212671.3594 - val_loss: 213454.0469\n",
      "Epoch 95/100\n",
      "8/8 [==============================] - 1s 114ms/step - loss: 209837.6719 - val_loss: 210836.6250\n",
      "Epoch 96/100\n",
      "8/8 [==============================] - 1s 114ms/step - loss: 207016.6094 - val_loss: 207707.5469\n",
      "Epoch 97/100\n",
      "8/8 [==============================] - 1s 116ms/step - loss: 204081.5938 - val_loss: 204823.8906\n",
      "Epoch 98/100\n",
      "8/8 [==============================] - 1s 118ms/step - loss: 201074.5781 - val_loss: 201522.4375\n",
      "Epoch 99/100\n",
      "8/8 [==============================] - 1s 111ms/step - loss: 197860.6406 - val_loss: 198545.2969\n",
      "Epoch 100/100\n",
      "8/8 [==============================] - 1s 99ms/step - loss: 194620.9219 - val_loss: 195003.1406\n"
     ]
    },
    {
     "data": {
      "text/plain": [
       "<keras.callbacks.History at 0x16835f9d0>"
      ]
     },
     "execution_count": 49,
     "metadata": {},
     "output_type": "execute_result"
    }
   ],
   "source": [
    "callback = keras.callbacks.EarlyStopping(monitor='loss', patience=3)\n",
    "model.fit(X, y, validation_split=0.2, batch_size=int(N*0.1), epochs=100, callbacks=[callback])"
   ]
  },
  {
   "cell_type": "code",
   "execution_count": 50,
   "metadata": {},
   "outputs": [
    {
     "name": "stdout",
     "output_type": "stream",
     "text": [
      "WARNING:tensorflow:5 out of the last 6 calls to <function Model.make_predict_function.<locals>.predict_function at 0x2db2cf420> triggered tf.function retracing. Tracing is expensive and the excessive number of tracings could be due to (1) creating @tf.function repeatedly in a loop, (2) passing tensors with different shapes, (3) passing Python objects instead of tensors. For (1), please define your @tf.function outside of the loop. For (2), @tf.function has reduce_retracing=True option that can avoid unnecessary retracing. For (3), please refer to https://www.tensorflow.org/guide/function#controlling_retracing and https://www.tensorflow.org/api_docs/python/tf/function for  more details.\n",
      "1/1 [==============================] - 0s 41ms/step\n"
     ]
    },
    {
     "data": {
      "text/plain": [
       "array([[2334.738   ],\n",
       "       [  92.535034]], dtype=float32)"
      ]
     },
     "execution_count": 50,
     "metadata": {},
     "output_type": "execute_result"
    }
   ],
   "source": [
    "model.predict(X_test[:2])"
   ]
  },
  {
   "cell_type": "code",
   "execution_count": 51,
   "metadata": {},
   "outputs": [
    {
     "data": {
      "text/plain": [
       "array([2408.12341437,  106.82799196])"
      ]
     },
     "execution_count": 51,
     "metadata": {},
     "output_type": "execute_result"
    }
   ],
   "source": [
    "y_test[:2]"
   ]
  },
  {
   "cell_type": "code",
   "execution_count": 41,
   "metadata": {},
   "outputs": [
    {
     "name": "stderr",
     "output_type": "stream",
     "text": [
      "2023-12-04 00:37:57.201132: I tensorflow/core/common_runtime/executor.cc:1197] [/job:localhost/replica:0/task:0/device:CPU:0] (DEBUG INFO) Executor start aborting (this does not indicate an error and you can ignore this message): INVALID_ARGUMENT: Matrix size-incompatible: In[0]: [1,240000], In[1]: [500,500]\n",
      "\t [[{{node sequential_1/dense_3/Relu}}]]\n"
     ]
    },
    {
     "ename": "InvalidArgumentError",
     "evalue": "Graph execution error:\n\nDetected at node 'sequential_1/dense_3/Relu' defined at (most recent call last):\n    File \"<frozen runpy>\", line 198, in _run_module_as_main\n    File \"<frozen runpy>\", line 88, in _run_code\n    File \"/Users/anandkrishnakumar/miniconda3/envs/musicr/lib/python3.11/site-packages/ipykernel_launcher.py\", line 17, in <module>\n      app.launch_new_instance()\n    File \"/Users/anandkrishnakumar/miniconda3/envs/musicr/lib/python3.11/site-packages/traitlets/config/application.py\", line 1077, in launch_instance\n      app.start()\n    File \"/Users/anandkrishnakumar/miniconda3/envs/musicr/lib/python3.11/site-packages/ipykernel/kernelapp.py\", line 737, in start\n      self.io_loop.start()\n    File \"/Users/anandkrishnakumar/miniconda3/envs/musicr/lib/python3.11/site-packages/tornado/platform/asyncio.py\", line 195, in start\n      self.asyncio_loop.run_forever()\n    File \"/Users/anandkrishnakumar/miniconda3/envs/musicr/lib/python3.11/asyncio/base_events.py\", line 607, in run_forever\n      self._run_once()\n    File \"/Users/anandkrishnakumar/miniconda3/envs/musicr/lib/python3.11/asyncio/base_events.py\", line 1922, in _run_once\n      handle._run()\n    File \"/Users/anandkrishnakumar/miniconda3/envs/musicr/lib/python3.11/asyncio/events.py\", line 80, in _run\n      self._context.run(self._callback, *self._args)\n    File \"/Users/anandkrishnakumar/miniconda3/envs/musicr/lib/python3.11/site-packages/ipykernel/kernelbase.py\", line 524, in dispatch_queue\n      await self.process_one()\n    File \"/Users/anandkrishnakumar/miniconda3/envs/musicr/lib/python3.11/site-packages/ipykernel/kernelbase.py\", line 513, in process_one\n      await dispatch(*args)\n    File \"/Users/anandkrishnakumar/miniconda3/envs/musicr/lib/python3.11/site-packages/ipykernel/kernelbase.py\", line 418, in dispatch_shell\n      await result\n    File \"/Users/anandkrishnakumar/miniconda3/envs/musicr/lib/python3.11/site-packages/ipykernel/kernelbase.py\", line 758, in execute_request\n      reply_content = await reply_content\n    File \"/Users/anandkrishnakumar/miniconda3/envs/musicr/lib/python3.11/site-packages/ipykernel/ipkernel.py\", line 426, in do_execute\n      res = shell.run_cell(\n    File \"/Users/anandkrishnakumar/miniconda3/envs/musicr/lib/python3.11/site-packages/ipykernel/zmqshell.py\", line 549, in run_cell\n      return super().run_cell(*args, **kwargs)\n    File \"/Users/anandkrishnakumar/miniconda3/envs/musicr/lib/python3.11/site-packages/IPython/core/interactiveshell.py\", line 3048, in run_cell\n      result = self._run_cell(\n    File \"/Users/anandkrishnakumar/miniconda3/envs/musicr/lib/python3.11/site-packages/IPython/core/interactiveshell.py\", line 3103, in _run_cell\n      result = runner(coro)\n    File \"/Users/anandkrishnakumar/miniconda3/envs/musicr/lib/python3.11/site-packages/IPython/core/async_helpers.py\", line 129, in _pseudo_sync_runner\n      coro.send(None)\n    File \"/Users/anandkrishnakumar/miniconda3/envs/musicr/lib/python3.11/site-packages/IPython/core/interactiveshell.py\", line 3308, in run_cell_async\n      has_raised = await self.run_ast_nodes(code_ast.body, cell_name,\n    File \"/Users/anandkrishnakumar/miniconda3/envs/musicr/lib/python3.11/site-packages/IPython/core/interactiveshell.py\", line 3490, in run_ast_nodes\n      if await self.run_code(code, result, async_=asy):\n    File \"/Users/anandkrishnakumar/miniconda3/envs/musicr/lib/python3.11/site-packages/IPython/core/interactiveshell.py\", line 3550, in run_code\n      exec(code_obj, self.user_global_ns, self.user_ns)\n    File \"/var/folders/vc/ln24mj4d0lg9gk8v28ym54jc0000gn/T/ipykernel_93390/3321221702.py\", line 1, in <module>\n      model.predict(np.expand_dims(testing_np_version[:, 0], 0))\n    File \"/Users/anandkrishnakumar/miniconda3/envs/musicr/lib/python3.11/site-packages/keras/utils/traceback_utils.py\", line 65, in error_handler\n      return fn(*args, **kwargs)\n    File \"/Users/anandkrishnakumar/miniconda3/envs/musicr/lib/python3.11/site-packages/keras/engine/training.py\", line 2382, in predict\n      tmp_batch_outputs = self.predict_function(iterator)\n    File \"/Users/anandkrishnakumar/miniconda3/envs/musicr/lib/python3.11/site-packages/keras/engine/training.py\", line 2169, in predict_function\n      return step_function(self, iterator)\n    File \"/Users/anandkrishnakumar/miniconda3/envs/musicr/lib/python3.11/site-packages/keras/engine/training.py\", line 2155, in step_function\n      outputs = model.distribute_strategy.run(run_step, args=(data,))\n    File \"/Users/anandkrishnakumar/miniconda3/envs/musicr/lib/python3.11/site-packages/keras/engine/training.py\", line 2143, in run_step\n      outputs = model.predict_step(data)\n    File \"/Users/anandkrishnakumar/miniconda3/envs/musicr/lib/python3.11/site-packages/keras/engine/training.py\", line 2111, in predict_step\n      return self(x, training=False)\n    File \"/Users/anandkrishnakumar/miniconda3/envs/musicr/lib/python3.11/site-packages/keras/utils/traceback_utils.py\", line 65, in error_handler\n      return fn(*args, **kwargs)\n    File \"/Users/anandkrishnakumar/miniconda3/envs/musicr/lib/python3.11/site-packages/keras/engine/training.py\", line 558, in __call__\n      return super().__call__(*args, **kwargs)\n    File \"/Users/anandkrishnakumar/miniconda3/envs/musicr/lib/python3.11/site-packages/keras/utils/traceback_utils.py\", line 65, in error_handler\n      return fn(*args, **kwargs)\n    File \"/Users/anandkrishnakumar/miniconda3/envs/musicr/lib/python3.11/site-packages/keras/engine/base_layer.py\", line 1145, in __call__\n      outputs = call_fn(inputs, *args, **kwargs)\n    File \"/Users/anandkrishnakumar/miniconda3/envs/musicr/lib/python3.11/site-packages/keras/utils/traceback_utils.py\", line 96, in error_handler\n      return fn(*args, **kwargs)\n    File \"/Users/anandkrishnakumar/miniconda3/envs/musicr/lib/python3.11/site-packages/keras/engine/sequential.py\", line 412, in call\n      return super().call(inputs, training=training, mask=mask)\n    File \"/Users/anandkrishnakumar/miniconda3/envs/musicr/lib/python3.11/site-packages/keras/engine/functional.py\", line 512, in call\n      return self._run_internal_graph(inputs, training=training, mask=mask)\n    File \"/Users/anandkrishnakumar/miniconda3/envs/musicr/lib/python3.11/site-packages/keras/engine/functional.py\", line 669, in _run_internal_graph\n      outputs = node.layer(*args, **kwargs)\n    File \"/Users/anandkrishnakumar/miniconda3/envs/musicr/lib/python3.11/site-packages/keras/utils/traceback_utils.py\", line 65, in error_handler\n      return fn(*args, **kwargs)\n    File \"/Users/anandkrishnakumar/miniconda3/envs/musicr/lib/python3.11/site-packages/keras/engine/base_layer.py\", line 1145, in __call__\n      outputs = call_fn(inputs, *args, **kwargs)\n    File \"/Users/anandkrishnakumar/miniconda3/envs/musicr/lib/python3.11/site-packages/keras/utils/traceback_utils.py\", line 96, in error_handler\n      return fn(*args, **kwargs)\n    File \"/Users/anandkrishnakumar/miniconda3/envs/musicr/lib/python3.11/site-packages/keras/layers/core/dense.py\", line 255, in call\n      outputs = self.activation(outputs)\n    File \"/Users/anandkrishnakumar/miniconda3/envs/musicr/lib/python3.11/site-packages/keras/activations.py\", line 317, in relu\n      return backend.relu(\n    File \"/Users/anandkrishnakumar/miniconda3/envs/musicr/lib/python3.11/site-packages/keras/backend.py\", line 5396, in relu\n      x = tf.nn.relu(x)\nNode: 'sequential_1/dense_3/Relu'\nMatrix size-incompatible: In[0]: [1,240000], In[1]: [500,500]\n\t [[{{node sequential_1/dense_3/Relu}}]] [Op:__inference_predict_function_5034]",
     "output_type": "error",
     "traceback": [
      "\u001b[0;31m---------------------------------------------------------------------------\u001b[0m",
      "\u001b[0;31mInvalidArgumentError\u001b[0m                      Traceback (most recent call last)",
      "\u001b[1;32m/Users/anandkrishnakumar/Coding/musicr/musicr/notebooks/note detect.ipynb Cell 11\u001b[0m line \u001b[0;36m1\n\u001b[0;32m----> <a href='vscode-notebook-cell:/Users/anandkrishnakumar/Coding/musicr/musicr/notebooks/note%20detect.ipynb#X15sZmlsZQ%3D%3D?line=0'>1</a>\u001b[0m model\u001b[39m.\u001b[39;49mpredict(np\u001b[39m.\u001b[39;49mexpand_dims(testing_np_version[:, \u001b[39m0\u001b[39;49m], \u001b[39m0\u001b[39;49m))\n",
      "File \u001b[0;32m~/miniconda3/envs/musicr/lib/python3.11/site-packages/keras/utils/traceback_utils.py:70\u001b[0m, in \u001b[0;36mfilter_traceback.<locals>.error_handler\u001b[0;34m(*args, **kwargs)\u001b[0m\n\u001b[1;32m     67\u001b[0m     filtered_tb \u001b[39m=\u001b[39m _process_traceback_frames(e\u001b[39m.\u001b[39m__traceback__)\n\u001b[1;32m     68\u001b[0m     \u001b[39m# To get the full stack trace, call:\u001b[39;00m\n\u001b[1;32m     69\u001b[0m     \u001b[39m# `tf.debugging.disable_traceback_filtering()`\u001b[39;00m\n\u001b[0;32m---> 70\u001b[0m     \u001b[39mraise\u001b[39;00m e\u001b[39m.\u001b[39mwith_traceback(filtered_tb) \u001b[39mfrom\u001b[39;00m \u001b[39mNone\u001b[39;00m\n\u001b[1;32m     71\u001b[0m \u001b[39mfinally\u001b[39;00m:\n\u001b[1;32m     72\u001b[0m     \u001b[39mdel\u001b[39;00m filtered_tb\n",
      "File \u001b[0;32m~/miniconda3/envs/musicr/lib/python3.11/site-packages/tensorflow/python/eager/execute.py:52\u001b[0m, in \u001b[0;36mquick_execute\u001b[0;34m(op_name, num_outputs, inputs, attrs, ctx, name)\u001b[0m\n\u001b[1;32m     50\u001b[0m \u001b[39mtry\u001b[39;00m:\n\u001b[1;32m     51\u001b[0m   ctx\u001b[39m.\u001b[39mensure_initialized()\n\u001b[0;32m---> 52\u001b[0m   tensors \u001b[39m=\u001b[39m pywrap_tfe\u001b[39m.\u001b[39mTFE_Py_Execute(ctx\u001b[39m.\u001b[39m_handle, device_name, op_name,\n\u001b[1;32m     53\u001b[0m                                       inputs, attrs, num_outputs)\n\u001b[1;32m     54\u001b[0m \u001b[39mexcept\u001b[39;00m core\u001b[39m.\u001b[39m_NotOkStatusException \u001b[39mas\u001b[39;00m e:\n\u001b[1;32m     55\u001b[0m   \u001b[39mif\u001b[39;00m name \u001b[39mis\u001b[39;00m \u001b[39mnot\u001b[39;00m \u001b[39mNone\u001b[39;00m:\n",
      "\u001b[0;31mInvalidArgumentError\u001b[0m: Graph execution error:\n\nDetected at node 'sequential_1/dense_3/Relu' defined at (most recent call last):\n    File \"<frozen runpy>\", line 198, in _run_module_as_main\n    File \"<frozen runpy>\", line 88, in _run_code\n    File \"/Users/anandkrishnakumar/miniconda3/envs/musicr/lib/python3.11/site-packages/ipykernel_launcher.py\", line 17, in <module>\n      app.launch_new_instance()\n    File \"/Users/anandkrishnakumar/miniconda3/envs/musicr/lib/python3.11/site-packages/traitlets/config/application.py\", line 1077, in launch_instance\n      app.start()\n    File \"/Users/anandkrishnakumar/miniconda3/envs/musicr/lib/python3.11/site-packages/ipykernel/kernelapp.py\", line 737, in start\n      self.io_loop.start()\n    File \"/Users/anandkrishnakumar/miniconda3/envs/musicr/lib/python3.11/site-packages/tornado/platform/asyncio.py\", line 195, in start\n      self.asyncio_loop.run_forever()\n    File \"/Users/anandkrishnakumar/miniconda3/envs/musicr/lib/python3.11/asyncio/base_events.py\", line 607, in run_forever\n      self._run_once()\n    File \"/Users/anandkrishnakumar/miniconda3/envs/musicr/lib/python3.11/asyncio/base_events.py\", line 1922, in _run_once\n      handle._run()\n    File \"/Users/anandkrishnakumar/miniconda3/envs/musicr/lib/python3.11/asyncio/events.py\", line 80, in _run\n      self._context.run(self._callback, *self._args)\n    File \"/Users/anandkrishnakumar/miniconda3/envs/musicr/lib/python3.11/site-packages/ipykernel/kernelbase.py\", line 524, in dispatch_queue\n      await self.process_one()\n    File \"/Users/anandkrishnakumar/miniconda3/envs/musicr/lib/python3.11/site-packages/ipykernel/kernelbase.py\", line 513, in process_one\n      await dispatch(*args)\n    File \"/Users/anandkrishnakumar/miniconda3/envs/musicr/lib/python3.11/site-packages/ipykernel/kernelbase.py\", line 418, in dispatch_shell\n      await result\n    File \"/Users/anandkrishnakumar/miniconda3/envs/musicr/lib/python3.11/site-packages/ipykernel/kernelbase.py\", line 758, in execute_request\n      reply_content = await reply_content\n    File \"/Users/anandkrishnakumar/miniconda3/envs/musicr/lib/python3.11/site-packages/ipykernel/ipkernel.py\", line 426, in do_execute\n      res = shell.run_cell(\n    File \"/Users/anandkrishnakumar/miniconda3/envs/musicr/lib/python3.11/site-packages/ipykernel/zmqshell.py\", line 549, in run_cell\n      return super().run_cell(*args, **kwargs)\n    File \"/Users/anandkrishnakumar/miniconda3/envs/musicr/lib/python3.11/site-packages/IPython/core/interactiveshell.py\", line 3048, in run_cell\n      result = self._run_cell(\n    File \"/Users/anandkrishnakumar/miniconda3/envs/musicr/lib/python3.11/site-packages/IPython/core/interactiveshell.py\", line 3103, in _run_cell\n      result = runner(coro)\n    File \"/Users/anandkrishnakumar/miniconda3/envs/musicr/lib/python3.11/site-packages/IPython/core/async_helpers.py\", line 129, in _pseudo_sync_runner\n      coro.send(None)\n    File \"/Users/anandkrishnakumar/miniconda3/envs/musicr/lib/python3.11/site-packages/IPython/core/interactiveshell.py\", line 3308, in run_cell_async\n      has_raised = await self.run_ast_nodes(code_ast.body, cell_name,\n    File \"/Users/anandkrishnakumar/miniconda3/envs/musicr/lib/python3.11/site-packages/IPython/core/interactiveshell.py\", line 3490, in run_ast_nodes\n      if await self.run_code(code, result, async_=asy):\n    File \"/Users/anandkrishnakumar/miniconda3/envs/musicr/lib/python3.11/site-packages/IPython/core/interactiveshell.py\", line 3550, in run_code\n      exec(code_obj, self.user_global_ns, self.user_ns)\n    File \"/var/folders/vc/ln24mj4d0lg9gk8v28ym54jc0000gn/T/ipykernel_93390/3321221702.py\", line 1, in <module>\n      model.predict(np.expand_dims(testing_np_version[:, 0], 0))\n    File \"/Users/anandkrishnakumar/miniconda3/envs/musicr/lib/python3.11/site-packages/keras/utils/traceback_utils.py\", line 65, in error_handler\n      return fn(*args, **kwargs)\n    File \"/Users/anandkrishnakumar/miniconda3/envs/musicr/lib/python3.11/site-packages/keras/engine/training.py\", line 2382, in predict\n      tmp_batch_outputs = self.predict_function(iterator)\n    File \"/Users/anandkrishnakumar/miniconda3/envs/musicr/lib/python3.11/site-packages/keras/engine/training.py\", line 2169, in predict_function\n      return step_function(self, iterator)\n    File \"/Users/anandkrishnakumar/miniconda3/envs/musicr/lib/python3.11/site-packages/keras/engine/training.py\", line 2155, in step_function\n      outputs = model.distribute_strategy.run(run_step, args=(data,))\n    File \"/Users/anandkrishnakumar/miniconda3/envs/musicr/lib/python3.11/site-packages/keras/engine/training.py\", line 2143, in run_step\n      outputs = model.predict_step(data)\n    File \"/Users/anandkrishnakumar/miniconda3/envs/musicr/lib/python3.11/site-packages/keras/engine/training.py\", line 2111, in predict_step\n      return self(x, training=False)\n    File \"/Users/anandkrishnakumar/miniconda3/envs/musicr/lib/python3.11/site-packages/keras/utils/traceback_utils.py\", line 65, in error_handler\n      return fn(*args, **kwargs)\n    File \"/Users/anandkrishnakumar/miniconda3/envs/musicr/lib/python3.11/site-packages/keras/engine/training.py\", line 558, in __call__\n      return super().__call__(*args, **kwargs)\n    File \"/Users/anandkrishnakumar/miniconda3/envs/musicr/lib/python3.11/site-packages/keras/utils/traceback_utils.py\", line 65, in error_handler\n      return fn(*args, **kwargs)\n    File \"/Users/anandkrishnakumar/miniconda3/envs/musicr/lib/python3.11/site-packages/keras/engine/base_layer.py\", line 1145, in __call__\n      outputs = call_fn(inputs, *args, **kwargs)\n    File \"/Users/anandkrishnakumar/miniconda3/envs/musicr/lib/python3.11/site-packages/keras/utils/traceback_utils.py\", line 96, in error_handler\n      return fn(*args, **kwargs)\n    File \"/Users/anandkrishnakumar/miniconda3/envs/musicr/lib/python3.11/site-packages/keras/engine/sequential.py\", line 412, in call\n      return super().call(inputs, training=training, mask=mask)\n    File \"/Users/anandkrishnakumar/miniconda3/envs/musicr/lib/python3.11/site-packages/keras/engine/functional.py\", line 512, in call\n      return self._run_internal_graph(inputs, training=training, mask=mask)\n    File \"/Users/anandkrishnakumar/miniconda3/envs/musicr/lib/python3.11/site-packages/keras/engine/functional.py\", line 669, in _run_internal_graph\n      outputs = node.layer(*args, **kwargs)\n    File \"/Users/anandkrishnakumar/miniconda3/envs/musicr/lib/python3.11/site-packages/keras/utils/traceback_utils.py\", line 65, in error_handler\n      return fn(*args, **kwargs)\n    File \"/Users/anandkrishnakumar/miniconda3/envs/musicr/lib/python3.11/site-packages/keras/engine/base_layer.py\", line 1145, in __call__\n      outputs = call_fn(inputs, *args, **kwargs)\n    File \"/Users/anandkrishnakumar/miniconda3/envs/musicr/lib/python3.11/site-packages/keras/utils/traceback_utils.py\", line 96, in error_handler\n      return fn(*args, **kwargs)\n    File \"/Users/anandkrishnakumar/miniconda3/envs/musicr/lib/python3.11/site-packages/keras/layers/core/dense.py\", line 255, in call\n      outputs = self.activation(outputs)\n    File \"/Users/anandkrishnakumar/miniconda3/envs/musicr/lib/python3.11/site-packages/keras/activations.py\", line 317, in relu\n      return backend.relu(\n    File \"/Users/anandkrishnakumar/miniconda3/envs/musicr/lib/python3.11/site-packages/keras/backend.py\", line 5396, in relu\n      x = tf.nn.relu(x)\nNode: 'sequential_1/dense_3/Relu'\nMatrix size-incompatible: In[0]: [1,240000], In[1]: [500,500]\n\t [[{{node sequential_1/dense_3/Relu}}]] [Op:__inference_predict_function_5034]"
     ]
    }
   ],
   "source": [
    "model.predict(np.expand_dims(testing_np_version[:, 0], 0))"
   ]
  },
  {
   "cell_type": "code",
   "execution_count": 52,
   "metadata": {},
   "outputs": [],
   "source": [
    "model.save(\"../models/note_detect.h5\", save_format=\"h5\")"
   ]
  },
  {
   "cell_type": "code",
   "execution_count": 22,
   "metadata": {},
   "outputs": [],
   "source": [
    "from tensorflow.keras.models import load_model\n",
    "model_eval = load_model('../models/note_detect.h5', compile=False)"
   ]
  },
  {
   "cell_type": "code",
   "execution_count": 23,
   "metadata": {},
   "outputs": [
    {
     "name": "stdout",
     "output_type": "stream",
     "text": [
      "1/1 [==============================] - 0s 32ms/step\n"
     ]
    },
    {
     "data": {
      "text/plain": [
       "array([[630.546]], dtype=float32)"
      ]
     },
     "execution_count": 23,
     "metadata": {},
     "output_type": "execute_result"
    }
   ],
   "source": [
    "model_eval.predict(np.expand_dims(testing_np_version[:, 0], 0))"
   ]
  },
  {
   "cell_type": "code",
   "execution_count": 24,
   "metadata": {},
   "outputs": [
    {
     "data": {
      "text/plain": [
       "[<matplotlib.lines.Line2D at 0x28c917c50>]"
      ]
     },
     "execution_count": 24,
     "metadata": {},
     "output_type": "execute_result"
    },
    {
     "data": {
      "image/png": "[encoded data removed]",
      "text/plain": [
       "<Figure size 640x480 with 1 Axes>"
      ]
     },
     "metadata": {},
     "output_type": "display_data"
    }
   ],
   "source": [
    "plt.plot(testing_np_version[:100, 0])"
   ]
  },
  {
   "cell_type": "code",
   "execution_count": null,
   "metadata": {},
   "outputs": [],
   "source": []
  }
 ],
 "metadata": {
  "kernelspec": {
   "display_name": "musicr",
   "language": "python",
   "name": "python3"
  },
  "language_info": {
   "codemirror_mode": {
    "name": "ipython",
    "version": 3
   },
   "file_extension": ".py",
   "mimetype": "text/x-python",
   "name": "python",
   "nbconvert_exporter": "python",
   "pygments_lexer": "ipython3",
   "version": "3.11.5"
  },
  "orig_nbformat": 4
 },
 "nbformat": 4,
 "nbformat_minor": 2
}
