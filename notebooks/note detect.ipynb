{
 "cells": [
  {
   "cell_type": "code",
   "execution_count": 15,
   "metadata": {},
   "outputs": [],
   "source": [
    "import numpy as np\n",
    "import os\n",
    "\n",
    "os.environ[\"KERAS_BACKEND\"] = \"jax\"\n",
    "\n",
    "# Note that Keras should only be imported after the backend\n",
    "# has been configured. The backend cannot be changed once the\n",
    "# package is imported.\n",
    "import keras\n",
    "import pydub\n",
    "import matplotlib.pyplot as plt"
   ]
  },
  {
   "cell_type": "code",
   "execution_count": 90,
   "metadata": {},
   "outputs": [],
   "source": [
    "from keras import Sequential\n",
    "from keras.layers import Dense"
   ]
  },
  {
   "cell_type": "code",
   "execution_count": 16,
   "metadata": {},
   "outputs": [],
   "source": [
    "def read(f, normalized=False):\n",
    "    \"\"\"MP3 to numpy array\"\"\"\n",
    "    a = pydub.AudioSegment.from_mp3(f)\n",
    "    y = np.array(a.get_array_of_samples())\n",
    "    if a.channels == 2:\n",
    "        y = y.reshape((-1, 2))\n",
    "    if normalized:\n",
    "        return a.frame_rate, np.float32(y) / 2**15\n",
    "    else:\n",
    "        return a.frame_rate, y\n",
    "\n",
    "def write(f, sr, x, normalized=False):\n",
    "    \"\"\"numpy array to MP3\"\"\"\n",
    "    channels = 2 if (x.ndim == 2 and x.shape[1] == 2) else 1\n",
    "    if normalized:  # normalized array - each item should be a float in [-1, 1)\n",
    "        y = np.int16(x * 2 ** 15)\n",
    "    else:\n",
    "        y = np.int16(x)\n",
    "    song = pydub.AudioSegment(y.tobytes(), frame_rate=sr, sample_width=2, channels=channels)\n",
    "    song.export(f, format=\"mp3\", bitrate=\"320k\")\n"
   ]
  },
  {
   "cell_type": "code",
   "execution_count": 94,
   "metadata": {},
   "outputs": [
    {
     "data": {
      "image/png": "[encoded data removed]",
      "text/plain": [
       "<Figure size 640x480 with 1 Axes>"
      ]
     },
     "metadata": {},
     "output_type": "display_data"
    }
   ],
   "source": [
    "# Generate sine wave\n",
    "def gen_sine(freq, sr, secs, noise_sd=False):\n",
    "    num = int(sr*secs)\n",
    "    testing_np_version = np.zeros((num, 2))\n",
    "    testing_np_version[:, 0] = np.sin(2 * np.pi * np.arange(num) * freq / sr) * 0.5\n",
    "    testing_np_version[:, 1] = np.sin(2 * np.pi * np.arange(num) * freq / sr) * 0.5\n",
    "    \n",
    "    if noise_sd is not None:\n",
    "        # Add noise\n",
    "        testing_np_version[:, 0] += np.random.normal(0, noise_sd, size=num)\n",
    "        testing_np_version[:, 1] += np.random.normal(0, noise_sd, size=num)\n",
    "\n",
    "    return testing_np_version\n",
    "\n",
    "secs = 1/96\n",
    "sr = 48000\n",
    "freq = 600\n",
    "testing_np_version = gen_sine(freq, sr, secs, noise_sd=0.03)\n",
    "plt.plot(testing_np_version[1:100, 0])\n",
    "plt.show()"
   ]
  },
  {
   "cell_type": "code",
   "execution_count": 95,
   "metadata": {},
   "outputs": [],
   "source": [
    "write(\"mp3_check.mp3\",sr,testing_np_version,normalized=True)"
   ]
  },
  {
   "cell_type": "code",
   "execution_count": 121,
   "metadata": {},
   "outputs": [
    {
     "data": {
      "text/plain": [
       "(7000, 500)"
      ]
     },
     "execution_count": 121,
     "metadata": {},
     "output_type": "execute_result"
    }
   ],
   "source": [
    "# Randomly generate frequencies between C2 and C8\n",
    "c2 = 65.41\n",
    "c8 = 4186.01\n",
    "c7 = 2093.00\n",
    "\n",
    "# Generate N training samples\n",
    "N = 10000\n",
    "freqs = np.random.uniform(c2, c8, size=N)\n",
    "noise_sds = np.random.exponential(0.02, size=N)\n",
    "X_lst = []\n",
    "for i in range(N):\n",
    "    sine = gen_sine(freqs[i], sr=48000, secs=1/96, noise_sd=noise_sds[i])[:, 0]\n",
    "    X_lst.append(sine)\n",
    "\n",
    "X = np.stack(X_lst)\n",
    "y = freqs\n",
    "split = 0.7\n",
    "X_train = X[:int(split*len(X_lst))]\n",
    "y_train = freqs[:int(split*len(X_lst))]\n",
    "X_test = X[int(split*len(X_lst)):]\n",
    "y_test = freqs[int(split*len(X_lst)):]\n",
    "X_train.shape"
   ]
  },
  {
   "cell_type": "code",
   "execution_count": 102,
   "metadata": {},
   "outputs": [
    {
     "name": "stdout",
     "output_type": "stream",
     "text": [
      "Model: \"sequential_3\"\n",
      "_________________________________________________________________\n",
      " Layer (type)                Output Shape              Param #   \n",
      "=================================================================\n",
      " dense_9 (Dense)             (None, 500)               250500    \n",
      "                                                                 \n",
      " dense_10 (Dense)            (None, 500)               250500    \n",
      "                                                                 \n",
      " dense_11 (Dense)            (None, 1)                 501       \n",
      "                                                                 \n",
      "=================================================================\n",
      "Total params: 501,501\n",
      "Trainable params: 501,501\n",
      "Non-trainable params: 0\n",
      "_________________________________________________________________\n"
     ]
    }
   ],
   "source": [
    "# Build network\n",
    "input_shape = len(X_lst[0])\n",
    " # create model\n",
    "model = keras.Sequential()\n",
    "model.add(Dense(input_shape, input_shape=(input_shape,), kernel_initializer='normal', activation='relu'))\n",
    "model.add(Dense(input_shape, kernel_initializer='normal', activation='relu'))\n",
    "model.add(Dense(1, kernel_initializer='normal'))\n",
    "# Compile model\n",
    "model.compile(loss='mean_squared_error', optimizer='adam')\n",
    " \n",
    "# Display a summary of the model architecture.\n",
    "model.summary()"
   ]
  },
  {
   "cell_type": "code",
   "execution_count": 125,
   "metadata": {},
   "outputs": [
    {
     "name": "stdout",
     "output_type": "stream",
     "text": [
      "Epoch 1/30\n"
     ]
    },
    {
     "name": "stdout",
     "output_type": "stream",
     "text": [
      "8/8 [==============================] - 0s 27ms/step - loss: 1823.1412 - val_loss: 1571.4365\n",
      "Epoch 2/30\n",
      "8/8 [==============================] - 0s 20ms/step - loss: 801.7208 - val_loss: 1136.9128\n",
      "Epoch 3/30\n",
      "8/8 [==============================] - 0s 20ms/step - loss: 607.3923 - val_loss: 819.2043\n",
      "Epoch 4/30\n",
      "8/8 [==============================] - 0s 20ms/step - loss: 400.4220 - val_loss: 772.5770\n",
      "Epoch 5/30\n",
      "8/8 [==============================] - 0s 21ms/step - loss: 339.4981 - val_loss: 707.7486\n",
      "Epoch 6/30\n",
      "8/8 [==============================] - 0s 21ms/step - loss: 305.1677 - val_loss: 682.3585\n",
      "Epoch 7/30\n",
      "8/8 [==============================] - 0s 20ms/step - loss: 287.1718 - val_loss: 668.1041\n",
      "Epoch 8/30\n",
      "8/8 [==============================] - 0s 18ms/step - loss: 280.3440 - val_loss: 664.1005\n",
      "Epoch 9/30\n",
      "8/8 [==============================] - 0s 20ms/step - loss: 274.1039 - val_loss: 658.8346\n",
      "Epoch 10/30\n",
      "8/8 [==============================] - 0s 19ms/step - loss: 271.2186 - val_loss: 653.9547\n",
      "Epoch 11/30\n",
      "8/8 [==============================] - 0s 18ms/step - loss: 267.9040 - val_loss: 652.4524\n",
      "Epoch 12/30\n",
      "8/8 [==============================] - 0s 18ms/step - loss: 266.1711 - val_loss: 650.4190\n",
      "Epoch 13/30\n",
      "8/8 [==============================] - 0s 18ms/step - loss: 264.0091 - val_loss: 646.7349\n",
      "Epoch 14/30\n",
      "8/8 [==============================] - 0s 20ms/step - loss: 261.9144 - val_loss: 645.1833\n",
      "Epoch 15/30\n",
      "8/8 [==============================] - 0s 19ms/step - loss: 259.8324 - val_loss: 647.3660\n",
      "Epoch 16/30\n",
      "8/8 [==============================] - 0s 19ms/step - loss: 258.9601 - val_loss: 640.7313\n",
      "Epoch 17/30\n",
      "8/8 [==============================] - 0s 20ms/step - loss: 256.9075 - val_loss: 641.3922\n",
      "Epoch 18/30\n",
      "8/8 [==============================] - 0s 23ms/step - loss: 255.9490 - val_loss: 642.4922\n",
      "Epoch 19/30\n",
      "8/8 [==============================] - 0s 19ms/step - loss: 255.2435 - val_loss: 638.9068\n",
      "Epoch 20/30\n",
      "8/8 [==============================] - 0s 19ms/step - loss: 254.5865 - val_loss: 638.7211\n",
      "Epoch 21/30\n",
      "8/8 [==============================] - 0s 19ms/step - loss: 252.3017 - val_loss: 637.3599\n",
      "Epoch 22/30\n",
      "8/8 [==============================] - 0s 20ms/step - loss: 252.5178 - val_loss: 636.0822\n",
      "Epoch 23/30\n",
      "8/8 [==============================] - 0s 20ms/step - loss: 250.7904 - val_loss: 639.1756\n",
      "Epoch 24/30\n",
      "8/8 [==============================] - 0s 19ms/step - loss: 250.5884 - val_loss: 633.1411\n",
      "Epoch 25/30\n",
      "8/8 [==============================] - 0s 18ms/step - loss: 247.6801 - val_loss: 632.2981\n",
      "Epoch 26/30\n",
      "8/8 [==============================] - 0s 18ms/step - loss: 246.8511 - val_loss: 634.3687\n",
      "Epoch 27/30\n",
      "8/8 [==============================] - 0s 21ms/step - loss: 245.7741 - val_loss: 630.8901\n",
      "Epoch 28/30\n",
      "8/8 [==============================] - 0s 16ms/step - loss: 245.2468 - val_loss: 631.0742\n",
      "Epoch 29/30\n",
      "8/8 [==============================] - 0s 19ms/step - loss: 243.8784 - val_loss: 631.5749\n",
      "Epoch 30/30\n",
      "8/8 [==============================] - 0s 21ms/step - loss: 243.9543 - val_loss: 628.9149\n"
     ]
    },
    {
     "data": {
      "text/plain": [
       "<keras.callbacks.History at 0x28271ded0>"
      ]
     },
     "execution_count": 125,
     "metadata": {},
     "output_type": "execute_result"
    }
   ],
   "source": [
    "callback = keras.callbacks.EarlyStopping(monitor='loss', patience=3)\n",
    "model.fit(X, y, validation_split=0.2, batch_size=int(N*0.1), epochs=30, callbacks=[callback])"
   ]
  },
  {
   "cell_type": "code",
   "execution_count": 126,
   "metadata": {},
   "outputs": [
    {
     "name": "stdout",
     "output_type": "stream",
     "text": [
      "1/1 [==============================] - 0s 13ms/step\n"
     ]
    },
    {
     "data": {
      "text/plain": [
       "array([[3894.9263],\n",
       "       [4103.994 ]], dtype=float32)"
      ]
     },
     "execution_count": 126,
     "metadata": {},
     "output_type": "execute_result"
    }
   ],
   "source": [
    "model.predict(X_test[:2])"
   ]
  },
  {
   "cell_type": "code",
   "execution_count": 127,
   "metadata": {},
   "outputs": [
    {
     "data": {
      "text/plain": [
       "array([3874.39827907, 4085.66597677])"
      ]
     },
     "execution_count": 127,
     "metadata": {},
     "output_type": "execute_result"
    }
   ],
   "source": [
    "y_test[:2]"
   ]
  },
  {
   "cell_type": "code",
   "execution_count": null,
   "metadata": {},
   "outputs": [],
   "source": []
  }
 ],
 "metadata": {
  "kernelspec": {
   "display_name": "musicr",
   "language": "python",
   "name": "python3"
  },
  "language_info": {
   "codemirror_mode": {
    "name": "ipython",
    "version": 3
   },
   "file_extension": ".py",
   "mimetype": "text/x-python",
   "name": "python",
   "nbconvert_exporter": "python",
   "pygments_lexer": "ipython3",
   "version": "3.11.5"
  },
  "orig_nbformat": 4
 },
 "nbformat": 4,
 "nbformat_minor": 2
}
