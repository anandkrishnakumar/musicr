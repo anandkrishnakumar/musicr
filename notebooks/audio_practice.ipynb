{
 "cells": [
  {
   "cell_type": "code",
   "execution_count": 30,
   "metadata": {},
   "outputs": [],
   "source": [
    "#import wave generating function from utils file\n",
    "from utils.waves import gen_sine\n",
    "from utils.read_write import read, write\n",
    "import matplotlib.pyplot as plt\n",
    "import numpy as np"
   ]
  },
  {
   "cell_type": "code",
   "execution_count": 33,
   "metadata": {},
   "outputs": [
    {
     "name": "stdout",
     "output_type": "stream",
     "text": [
      "2.408554367752175\n"
     ]
    }
   ],
   "source": [
    "#example low note for short time with noise\n",
    "amplitude = 1\n",
    "frequency = 92\n",
    "sr = 48000\n",
    "secs = 10\n",
    "noise = None\n",
    "\n",
    "low_f_wave = gen_sine(frequency,sr,secs, noise,amplitude=amplitude)[:,0]\n",
    "\n",
    "#plt.plot(low_f_wave[:500])\n",
    "print(2 * np.pi * 200* frequency / sr)"
   ]
  },
  {
   "cell_type": "code",
   "execution_count": 34,
   "metadata": {},
   "outputs": [],
   "source": [
    "# convert low note into an mp3\n",
    "write(\"low_note.mp3\",48000,low_f_wave,normalized=True)"
   ]
  },
  {
   "cell_type": "code",
   "execution_count": null,
   "metadata": {},
   "outputs": [],
   "source": []
  }
 ],
 "metadata": {
  "kernelspec": {
   "display_name": "musicr",
   "language": "python",
   "name": "python3"
  },
  "language_info": {
   "codemirror_mode": {
    "name": "ipython",
    "version": 3
   },
   "file_extension": ".py",
   "mimetype": "text/x-python",
   "name": "python",
   "nbconvert_exporter": "python",
   "pygments_lexer": "ipython3",
   "version": "3.6.13"
  }
 },
 "nbformat": 4,
 "nbformat_minor": 2
}
