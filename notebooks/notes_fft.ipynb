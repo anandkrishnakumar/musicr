{
 "cells": [
  {
   "cell_type": "code",
   "execution_count": null,
   "metadata": {},
   "outputs": [],
   "source": [
    "#write code to check for multiple notes using fft\n",
    "\n",
    "#write code to check for cps in each frequency as time passes\n",
    "\n",
    "#does amplitude in the frequency domain mean anything?  \n",
    "\n",
    "###turns out even with zero noise, it doesnt become infinitely large at the driving frequency. \n",
    "###Hence, amplitude is a good representation of the aplitude of the note at that freq"
   ]
  }
 ],
 "metadata": {
  "language_info": {
   "name": "python"
  }
 },
 "nbformat": 4,
 "nbformat_minor": 2
}
