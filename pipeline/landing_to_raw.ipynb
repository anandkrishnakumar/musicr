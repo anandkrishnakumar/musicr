{
 "cells": [
  {
   "cell_type": "code",
   "execution_count": 1,
   "metadata": {},
   "outputs": [],
   "source": [
    "import json"
   ]
  },
  {
   "cell_type": "code",
   "execution_count": 2,
   "metadata": {},
   "outputs": [
    {
     "data": {
      "text/plain": [
       "4096"
      ]
     },
     "execution_count": 2,
     "metadata": {},
     "output_type": "execute_result"
    }
   ],
   "source": [
    "with open('landing/nsynth-test/examples.json') as f:\n",
    "    data = json.load(f)"
   ]
  },
  {
   "cell_type": "code",
   "execution_count": 5,
   "metadata": {},
   "outputs": [
    {
     "data": {
      "text/plain": [
       "{'qualities': [0, 1, 0, 0, 0, 0, 0, 0, 0, 0],\n",
       " 'pitch': 49,\n",
       " 'note': 217499,\n",
       " 'instrument_source_str': 'synthetic',\n",
       " 'velocity': 25,\n",
       " 'instrument_str': 'bass_synthetic_068',\n",
       " 'instrument': 656,\n",
       " 'sample_rate': 16000,\n",
       " 'qualities_str': ['dark'],\n",
       " 'instrument_source': 2,\n",
       " 'note_str': 'bass_synthetic_068-049-025',\n",
       " 'instrument_family': 0,\n",
       " 'instrument_family_str': 'bass'}"
      ]
     },
     "execution_count": 5,
     "metadata": {},
     "output_type": "execute_result"
    }
   ],
   "source": [
    "data['bass_synthetic_068-049-025']"
   ]
  }
 ],
 "metadata": {
  "kernelspec": {
   "display_name": "musicr",
   "language": "python",
   "name": "python3"
  },
  "language_info": {
   "codemirror_mode": {
    "name": "ipython",
    "version": 3
   },
   "file_extension": ".py",
   "mimetype": "text/x-python",
   "name": "python",
   "nbconvert_exporter": "python",
   "pygments_lexer": "ipython3",
   "version": "3.11.5"
  }
 },
 "nbformat": 4,
 "nbformat_minor": 2
}
